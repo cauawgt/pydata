{
 "cells": [
  {
   "cell_type": "code",
   "execution_count": 4,
   "id": "451c0618-94e4-433b-a3d6-905654851e41",
   "metadata": {},
   "outputs": [],
   "source": [
    "import numpy as np"
   ]
  },
  {
   "cell_type": "markdown",
   "id": "63fcc88b-5f7f-4edd-bb02-e6b466e97fdb",
   "metadata": {
    "jp-MarkdownHeadingCollapsed": true
   },
   "source": [
    "### Creating Simples One-Dimensional Numpy Arrays"
   ]
  },
  {
   "cell_type": "markdown",
   "id": "b2beee89-8d0c-4671-ae56-d89a27ac53b2",
   "metadata": {},
   "source": [
    "1. Using a NumPy function, how would you create a one-dimensional NumPy array of the numbers from 10 to 100, counting by 10?"
   ]
  },
  {
   "cell_type": "code",
   "execution_count": 3,
   "id": "3ce1044a-28c4-4325-949c-95e4b0cee2c5",
   "metadata": {},
   "outputs": [
    {
     "data": {
      "text/plain": [
       "array([ 10,  20,  30,  40,  50,  60,  70,  80,  90, 100])"
      ]
     },
     "execution_count": 3,
     "metadata": {},
     "output_type": "execute_result"
    }
   ],
   "source": [
    "arr = np.arange(10, 101, 10)\n",
    "arr"
   ]
  },
  {
   "cell_type": "markdown",
   "id": "483c6b6c-b4b8-4c35-a85d-c221c2fcca3c",
   "metadata": {},
   "source": [
    "2. How could you create the same NumPy array using a Python range and a list?"
   ]
  },
  {
   "cell_type": "markdown",
   "id": "b32bb269-f579-40f1-a876-16bce5dff22a",
   "metadata": {},
   "source": [
    "arr_temp = [i for i in range(10, 101, 10)]\n",
    "arr = np.array(arr_temp)\n",
    "arr"
   ]
  },
  {
   "cell_type": "markdown",
   "id": "066f368e-67f9-4a42-853f-da7aa0c0a2dd",
   "metadata": {},
   "source": [
    "3. What happens if you pass no arguments to the np.array()?"
   ]
  },
  {
   "cell_type": "code",
   "execution_count": 7,
   "id": "4ca27226-fcdd-403e-aa1a-01dc564e9467",
   "metadata": {},
   "outputs": [],
   "source": [
    "# arr = np.array()"
   ]
  },
  {
   "cell_type": "markdown",
   "id": "79b7d8ef-923f-4104-a961-ea024714e39f",
   "metadata": {},
   "source": [
    "Levanta uma exceção 'TypeError' pela falta de um objeto."
   ]
  },
  {
   "cell_type": "markdown",
   "id": "3a46d3fa-d97a-416b-b947-6f6bc2d16c57",
   "metadata": {},
   "source": [
    "4. How might you create a NumPy array of the capital letters, A-Z?"
   ]
  },
  {
   "cell_type": "code",
   "execution_count": 9,
   "id": "2e99c66b-a455-49b5-b6b4-3b317feb22f2",
   "metadata": {},
   "outputs": [
    {
     "data": {
      "text/plain": [
       "array(['A', 'B', 'C', 'D', 'E', 'F', 'G', 'H', 'I', 'J', 'K', 'L', 'M',\n",
       "       'N', 'O', 'P', 'Q', 'R', 'S', 'T', 'U', 'V', 'W', 'X', 'Y', 'Z'],\n",
       "      dtype='<U1')"
      ]
     },
     "execution_count": 9,
     "metadata": {},
     "output_type": "execute_result"
    }
   ],
   "source": [
    "from string import ascii_uppercase\n",
    "\n",
    "capital_letters = np.array(list(ascii_uppercase))\n",
    "\n",
    "capital_letters"
   ]
  },
  {
   "cell_type": "markdown",
   "id": "a45cf96f-f861-4b42-be32-ad1f611bec73",
   "metadata": {},
   "source": [
    "5. How would you create a ten-element NumPy array object of all zeros?"
   ]
  },
  {
   "cell_type": "code",
   "execution_count": 10,
   "id": "f48bd986-dd24-41e9-a6cd-dc8366096a30",
   "metadata": {},
   "outputs": [
    {
     "data": {
      "text/plain": [
       "array([0., 0., 0., 0., 0., 0., 0., 0., 0., 0.])"
      ]
     },
     "execution_count": 10,
     "metadata": {},
     "output_type": "execute_result"
    }
   ],
   "source": [
    "arr0 = np.zeros(10)\n",
    "arr0"
   ]
  },
  {
   "cell_type": "markdown",
   "id": "cac126a9-42c8-4848-a807-eb3fad745aec",
   "metadata": {},
   "source": [
    "6. How would you find the data type given in #5.\n",
    "\n",
    "7. What is the data type for #5?"
   ]
  },
  {
   "cell_type": "markdown",
   "id": "35db06e0-05d5-4e42-9fad-ac0d1397a514",
   "metadata": {},
   "source": [
    "Para encontrar o tipo de dado do arr0, basta utilizar o atributo 'dtype' do array numpy"
   ]
  },
  {
   "cell_type": "code",
   "execution_count": 11,
   "id": "2823657b-8c7e-4171-90f0-4a96a88dbb96",
   "metadata": {},
   "outputs": [
    {
     "data": {
      "text/plain": [
       "dtype('float64')"
      ]
     },
     "execution_count": 11,
     "metadata": {},
     "output_type": "execute_result"
    }
   ],
   "source": [
    "arr0.dtype"
   ]
  },
  {
   "cell_type": "markdown",
   "id": "dc95f482-c487-443b-89f8-b91bed465504",
   "metadata": {},
   "source": [
    "8. What function would return the same number of elements, but of all ones?"
   ]
  },
  {
   "cell_type": "code",
   "execution_count": 12,
   "id": "e545b8ae-1fb4-437b-b1f8-ef5a71877f8e",
   "metadata": {},
   "outputs": [
    {
     "data": {
      "text/plain": [
       "array([1., 1., 1., 1., 1., 1., 1., 1., 1., 1.])"
      ]
     },
     "execution_count": 12,
     "metadata": {},
     "output_type": "execute_result"
    }
   ],
   "source": [
    "arr1 = np.ones(10)\n",
    "arr1"
   ]
  },
  {
   "cell_type": "markdown",
   "id": "b0a53f2d-44e4-4310-b5b7-321e9de17c86",
   "metadata": {},
   "source": [
    "9. How could you create a ten-element array of random integers between 1 and 5 (inclusive)?"
   ]
  },
  {
   "cell_type": "code",
   "execution_count": 14,
   "id": "dd7c1292-48f8-422b-bb07-cf884d88e4e6",
   "metadata": {},
   "outputs": [
    {
     "data": {
      "text/plain": [
       "array([1, 1, 3, 2, 3, 3, 5, 2, 1, 4])"
      ]
     },
     "execution_count": 14,
     "metadata": {},
     "output_type": "execute_result"
    }
   ],
   "source": [
    "array_r = np.random.randint(1, 6, 10)\n",
    "array_r"
   ]
  },
  {
   "cell_type": "markdown",
   "id": "31af5b73-2a18-42ce-b56f-1247fccc03e0",
   "metadata": {},
   "source": [
    "10. How can you create a normal distribution of 10 numbers, centered on 5?"
   ]
  },
  {
   "cell_type": "code",
   "execution_count": 27,
   "id": "2462c997-cd1f-4e20-8c6d-41f4bd690eb9",
   "metadata": {},
   "outputs": [
    {
     "data": {
      "text/plain": [
       "array([4.45758323, 3.80892265, 6.99910252, 5.6074085 , 5.07407935,\n",
       "       5.11117931, 3.68236793, 3.41500966, 7.46298665, 5.67220515])"
      ]
     },
     "execution_count": 27,
     "metadata": {},
     "output_type": "execute_result"
    }
   ],
   "source": [
    "arr = np.random.normal(5, 1, 10)\n",
    "arr"
   ]
  },
  {
   "cell_type": "markdown",
   "id": "ec41b83e-1c26-4738-8f4f-c57de3e89589",
   "metadata": {},
   "source": [
    "11. What code would create an array of 10 random numbers between zero and one?"
   ]
  },
  {
   "cell_type": "code",
   "execution_count": 34,
   "id": "0f716a99-5bf3-4240-a953-048a34b5019c",
   "metadata": {},
   "outputs": [
    {
     "data": {
      "text/plain": [
       "array([9.18411512e-01, 3.19474212e-01, 8.63160475e-01, 5.42289907e-01,\n",
       "       3.11160380e-05, 5.52200094e-01, 4.35116417e-01, 5.48345081e-01,\n",
       "       6.65703840e-01, 1.33037343e-01])"
      ]
     },
     "execution_count": 34,
     "metadata": {},
     "output_type": "execute_result"
    }
   ],
   "source": [
    "arr01 = np.random.rand(10)\n",
    "arr01"
   ]
  },
  {
   "cell_type": "markdown",
   "id": "afd03c90-54ef-4c96-9d8b-8e89e2674d5c",
   "metadata": {
    "jp-MarkdownHeadingCollapsed": true
   },
   "source": [
    "### Creating and Using Multidimensional Arrays"
   ]
  },
  {
   "cell_type": "markdown",
   "id": "2606eec9-e4d2-451c-a473-9522332e6344",
   "metadata": {},
   "source": [
    "12. Consider the code: np.ones((3,5)). Does this A) create an array of three arrays containing five elements each or B) create an array of five arrays containing three elements each?"
   ]
  },
  {
   "cell_type": "code",
   "execution_count": 5,
   "id": "cdd97379-1803-414e-82a6-d26aca9a0ee5",
   "metadata": {},
   "outputs": [
    {
     "data": {
      "text/plain": [
       "array([[1., 1., 1., 1., 1.],\n",
       "       [1., 1., 1., 1., 1.],\n",
       "       [1., 1., 1., 1., 1.]])"
      ]
     },
     "execution_count": 5,
     "metadata": {},
     "output_type": "execute_result"
    }
   ],
   "source": [
    "arr = np.ones((3, 5))\n",
    "arr # LETRA A"
   ]
  },
  {
   "cell_type": "markdown",
   "id": "838a56ff-cf25-4876-a3de-473f79697d6c",
   "metadata": {},
   "source": [
    "13. Consider an array named “myarray” that is displayed as in the block below. What value does the code myarray[1,2] return? A) 10 B) 7."
   ]
  },
  {
   "cell_type": "code",
   "execution_count": 9,
   "id": "424f7f1e-60b0-4b93-b2e3-d3c760ec3fa7",
   "metadata": {},
   "outputs": [
    {
     "data": {
      "text/plain": [
       "array([[ 1,  2,  3,  4],\n",
       "       [ 5,  6,  7,  8],\n",
       "       [ 9, 10, 11, 12]])"
      ]
     },
     "execution_count": 9,
     "metadata": {},
     "output_type": "execute_result"
    }
   ],
   "source": [
    "# myarray:\n",
    "\n",
    "myarray = np.array([[ 1,  2,  3,  4],\n",
    "       [ 5,  6,  7,  8],\n",
    "       [ 9, 10, 11, 12]])\n",
    "\n",
    "myarray"
   ]
  },
  {
   "cell_type": "code",
   "execution_count": 10,
   "id": "0309428a-1991-42a2-af77-b195972e311e",
   "metadata": {},
   "outputs": [],
   "source": [
    "# myarray[1, 2] retorna 7"
   ]
  },
  {
   "cell_type": "markdown",
   "id": "b5e870d8-f4b5-4952-adbb-7ea074b90e29",
   "metadata": {},
   "source": [
    "14. Given myarray as shown above, what is the value of myarray.ndim?"
   ]
  },
  {
   "cell_type": "code",
   "execution_count": 11,
   "id": "2d6c82e6-65c0-4daf-aa3c-3636fe9eeb4e",
   "metadata": {},
   "outputs": [
    {
     "data": {
      "text/plain": [
       "2"
      ]
     },
     "execution_count": 11,
     "metadata": {},
     "output_type": "execute_result"
    }
   ],
   "source": [
    "myarray.ndim"
   ]
  },
  {
   "cell_type": "markdown",
   "id": "b445c52c-c297-4e00-8b21-8502b9f89141",
   "metadata": {},
   "source": [
    "15. An array of three arrays of four elements each like this has twelve elements, of course. How could you create a new array consisting of two arrays of six elements each?"
   ]
  },
  {
   "cell_type": "code",
   "execution_count": 12,
   "id": "4661d9f2-97f7-4d2d-ab1a-d1a1cecc9eb8",
   "metadata": {},
   "outputs": [
    {
     "data": {
      "text/plain": [
       "array([[ 0,  1,  2,  3,  4,  5],\n",
       "       [ 6,  7,  8,  9, 10, 11]])"
      ]
     },
     "execution_count": 12,
     "metadata": {},
     "output_type": "execute_result"
    }
   ],
   "source": [
    "arr = np.arange(12).reshape((2, 6))\n",
    "\n",
    "arr"
   ]
  },
  {
   "cell_type": "markdown",
   "id": "f1b2805d-6a28-406d-ba38-cc568d0d03f2",
   "metadata": {},
   "source": [
    "17. How could you create a two-dimensional, 3 x 4 array (three arrays of four elements each) with random numbers from 1 to 10?"
   ]
  },
  {
   "cell_type": "code",
   "execution_count": 16,
   "id": "d94844dd-3a45-4941-a0dd-daf936930078",
   "metadata": {},
   "outputs": [
    {
     "data": {
      "text/plain": [
       "array([[ 9,  5,  4,  8],\n",
       "       [ 8,  9, 10,  8],\n",
       "       [ 1,  3,  5,  4]])"
      ]
     },
     "execution_count": 16,
     "metadata": {},
     "output_type": "execute_result"
    }
   ],
   "source": [
    "arr = np.random.randint(1, 11, (3, 4))\n",
    "arr"
   ]
  },
  {
   "cell_type": "markdown",
   "id": "3f78659d-369f-47f6-ae20-1e3a3cf602b9",
   "metadata": {},
   "source": [
    "21. Given an array, named \"arr”, that looks like:"
   ]
  },
  {
   "cell_type": "code",
   "execution_count": 17,
   "id": "11dc4262-9d6a-4047-abad-79935c6bf37d",
   "metadata": {},
   "outputs": [],
   "source": [
    "# [[0, 1, 2],\n",
    "# [3, 4, 5]]"
   ]
  },
  {
   "cell_type": "markdown",
   "id": "e2ba442d-65ad-4e61-bbd8-cc063d5677fb",
   "metadata": {},
   "source": [
    "How could you display an array that looks like:"
   ]
  },
  {
   "cell_type": "code",
   "execution_count": 18,
   "id": "1d14798b-b73d-4b3f-9196-d87246e358db",
   "metadata": {},
   "outputs": [],
   "source": [
    "# [[0, 3],\n",
    "#  [1, 4],\n",
    "#  [2, 5]]"
   ]
  },
  {
   "cell_type": "code",
   "execution_count": 23,
   "id": "8cbd07ed-414d-42eb-9c81-d79a792b7088",
   "metadata": {},
   "outputs": [
    {
     "data": {
      "text/plain": [
       "array([[0, 1, 2],\n",
       "       [3, 4, 5]])"
      ]
     },
     "execution_count": 23,
     "metadata": {},
     "output_type": "execute_result"
    }
   ],
   "source": [
    "arr = np.array([[0, 1, 2], [3, 4, 5]])\n",
    "\n",
    "arr"
   ]
  },
  {
   "cell_type": "code",
   "execution_count": 24,
   "id": "52d11890-32f4-4b0c-a6fa-ca8af0a84574",
   "metadata": {},
   "outputs": [
    {
     "data": {
      "text/plain": [
       "array([[0, 3],\n",
       "       [1, 4],\n",
       "       [2, 5]])"
      ]
     },
     "execution_count": 24,
     "metadata": {},
     "output_type": "execute_result"
    }
   ],
   "source": [
    "arr.T"
   ]
  },
  {
   "cell_type": "markdown",
   "id": "ca317f25-d447-4ac1-94e0-4231190a2e53",
   "metadata": {},
   "source": [
    "### Indexing and Slicing Two-Dimensional Arrays"
   ]
  },
  {
   "cell_type": "markdown",
   "id": "03175466-db0e-4f96-9899-182131fbf36e",
   "metadata": {},
   "source": [
    "four_by_five = np.arange(1, 21).reshape((4, 5))\n",
    "\n",
    "four_by_five"
   ]
  },
  {
   "cell_type": "markdown",
   "id": "d7696d06-8b15-4223-b3b9-8823ff5e791b",
   "metadata": {},
   "source": [
    "Write a statement that prints the first row. (It will be a five-element array)."
   ]
  },
  {
   "cell_type": "code",
   "execution_count": 26,
   "id": "22ba8d95-bb60-4a44-9492-44c6db7c1683",
   "metadata": {},
   "outputs": [
    {
     "data": {
      "text/plain": [
       "array([1, 2, 3, 4, 5])"
      ]
     },
     "execution_count": 26,
     "metadata": {},
     "output_type": "execute_result"
    }
   ],
   "source": [
    "four_by_five[0, :]"
   ]
  },
  {
   "cell_type": "markdown",
   "id": "1d9a4a58-f3f3-4464-b07e-706e606eb022",
   "metadata": {},
   "source": [
    "Write an expression to print the last row. (It will be a five-element array)."
   ]
  },
  {
   "cell_type": "code",
   "execution_count": 27,
   "id": "e47ea2b9-d3c1-4df5-8973-e3e07c747352",
   "metadata": {},
   "outputs": [
    {
     "data": {
      "text/plain": [
       "array([16, 17, 18, 19, 20])"
      ]
     },
     "execution_count": 27,
     "metadata": {},
     "output_type": "execute_result"
    }
   ],
   "source": [
    "four_by_five[3, :]"
   ]
  },
  {
   "cell_type": "markdown",
   "id": "a720a229-9950-4687-911d-4f9de46e3fb9",
   "metadata": {},
   "source": [
    "What does print(four_by_five[2,3]) display?"
   ]
  },
  {
   "cell_type": "code",
   "execution_count": 29,
   "id": "59605c96-3a6b-49dd-bb3f-cae54432d8a7",
   "metadata": {},
   "outputs": [],
   "source": [
    "# print(four_by_five[2,3]) >> 14"
   ]
  },
  {
   "cell_type": "markdown",
   "id": "5f16f178-93d9-427a-9b35-420fb1140310",
   "metadata": {},
   "source": [
    "How could you display the first column? It will be a (four-element array ending with 16.)"
   ]
  },
  {
   "cell_type": "code",
   "execution_count": 31,
   "id": "05da4082-2040-4777-8663-c8019cc35ee0",
   "metadata": {},
   "outputs": [
    {
     "data": {
      "text/plain": [
       "array([ 1,  6, 11, 16])"
      ]
     },
     "execution_count": 31,
     "metadata": {},
     "output_type": "execute_result"
    }
   ],
   "source": [
    "four_by_five[:, 0]"
   ]
  },
  {
   "cell_type": "markdown",
   "id": "2b334a1f-9062-46e1-b636-ccf687df2684",
   "metadata": {},
   "source": [
    "Write an expression to return the last two columns of the middle two rows."
   ]
  },
  {
   "cell_type": "code",
   "execution_count": 33,
   "id": "b9346a9a-ceec-4dfe-b62c-94bf3ae0414e",
   "metadata": {},
   "outputs": [
    {
     "data": {
      "text/plain": [
       "array([[ 9, 10],\n",
       "       [14, 15]])"
      ]
     },
     "execution_count": 33,
     "metadata": {},
     "output_type": "execute_result"
    }
   ],
   "source": [
    "four_by_five[1:3, 3:]"
   ]
  },
  {
   "cell_type": "code",
   "execution_count": null,
   "id": "ad5b3397-6a59-471e-8dc3-6ec87baa26d2",
   "metadata": {},
   "outputs": [],
   "source": []
  }
 ],
 "metadata": {
  "kernelspec": {
   "display_name": "Python 3 (ipykernel)",
   "language": "python",
   "name": "python3"
  },
  "language_info": {
   "codemirror_mode": {
    "name": "ipython",
    "version": 3
   },
   "file_extension": ".py",
   "mimetype": "text/x-python",
   "name": "python",
   "nbconvert_exporter": "python",
   "pygments_lexer": "ipython3",
   "version": "3.10.18"
  }
 },
 "nbformat": 4,
 "nbformat_minor": 5
}
