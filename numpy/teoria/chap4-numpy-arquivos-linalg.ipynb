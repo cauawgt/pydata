{
 "cells": [
  {
   "cell_type": "markdown",
   "id": "c6f7ad93-f0c0-4a9a-b5d7-1514b1979e40",
   "metadata": {},
   "source": [
    "## Entrada e saída de arquivos com arrays\n",
    "O NumPy pode salvar e carregar dados de e para o disco em algum formato\n",
    "de texto ou binário. Nesta seção, discutirei apenas o formato binário interno\n",
    "do NumPy, já que a maioria dos usuários prefere o pandas e outras\n",
    "ferramentas para o carregamento de texto ou dados tabulares (consulte\n",
    "Carregamento de dados, armazenamento e formatos de arquivo para ver mais\n",
    "informações)."
   ]
  },
  {
   "cell_type": "markdown",
   "id": "d14d5ae2-8d97-4f37-8360-4fbc09f7dcf0",
   "metadata": {},
   "source": [
    "**numpy.save e numpy.load** são as duas principais funções de trabalho para o\n",
    "salvamento e o carregamento eficientes de dados de arrays em disco. Os\n",
    "arrays são salvos por padrão em um formato binário bruto descompactado\n",
    "com a extensão de arquivo .npy:"
   ]
  },
  {
   "cell_type": "code",
   "execution_count": 1,
   "id": "bc750c39-c305-4993-8702-cf41602e30e1",
   "metadata": {},
   "outputs": [],
   "source": [
    "import numpy as np\n",
    "\n",
    "arr = np.arange(10)\n",
    "\n",
    "np.save('some_array', arr)"
   ]
  },
  {
   "cell_type": "markdown",
   "id": "cf07f87c-9f8f-4f15-bac5-17a2ba07d3aa",
   "metadata": {},
   "source": [
    "Se o caminho do arquivo não terminar com .npy, a extensão será acrescida. O\n",
    "array armazenado no disco poderá então ser carregado com numpy.load:"
   ]
  },
  {
   "cell_type": "code",
   "execution_count": 2,
   "id": "786b65e7-6d5b-455e-89d5-fb88f0a4eee6",
   "metadata": {},
   "outputs": [
    {
     "data": {
      "text/plain": [
       "array([0, 1, 2, 3, 4, 5, 6, 7, 8, 9])"
      ]
     },
     "execution_count": 2,
     "metadata": {},
     "output_type": "execute_result"
    }
   ],
   "source": [
    "np.load('some_array.npy')"
   ]
  },
  {
   "cell_type": "code",
   "execution_count": null,
   "id": "7f090ed5-1374-4940-a17f-162136835156",
   "metadata": {},
   "outputs": [],
   "source": []
  }
 ],
 "metadata": {
  "kernelspec": {
   "display_name": "Python 3 (ipykernel)",
   "language": "python",
   "name": "python3"
  },
  "language_info": {
   "codemirror_mode": {
    "name": "ipython",
    "version": 3
   },
   "file_extension": ".py",
   "mimetype": "text/x-python",
   "name": "python",
   "nbconvert_exporter": "python",
   "pygments_lexer": "ipython3",
   "version": "3.10.18"
  }
 },
 "nbformat": 4,
 "nbformat_minor": 5
}
