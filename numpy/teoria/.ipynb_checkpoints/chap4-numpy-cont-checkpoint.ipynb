{
 "cells": [
  {
   "cell_type": "markdown",
   "id": "81dae166-f419-4adf-92b7-5c237237d169",
   "metadata": {},
   "source": [
    "## Geração de números pseudoaleatórios\n",
    "O módulo numpy.random complementa o módulo random interno do Python para a\n",
    "geração eficiente de arrays de inteiros com valores de amostras de muitos\n",
    "tipos de distribuições de probabilidade. Por exemplo, você pode obter uma\n",
    "array 4 × 4 de amostras da distribuição normal padrão usando\n",
    "numpy.random.standard_normal:"
   ]
  },
  {
   "cell_type": "code",
   "execution_count": 9,
   "id": "7d028e21-06d2-4cdd-a3cf-2930bccdbf53",
   "metadata": {},
   "outputs": [
    {
     "data": {
      "text/plain": [
       "array([[ 0.2374976 ,  0.87210105,  0.67730884,  1.99592929],\n",
       "       [ 0.29523851,  0.85616367, -0.73218115, -0.65525216],\n",
       "       [-0.95732433,  2.44062582,  0.31916503,  0.11645883],\n",
       "       [ 1.08627088,  1.07738649, -0.19670616,  0.34661079]])"
      ]
     },
     "execution_count": 9,
     "metadata": {},
     "output_type": "execute_result"
    }
   ],
   "source": [
    "import numpy as np\n",
    "\n",
    "samples = np.random.standard_normal(size=(4, 4))\n",
    "\n",
    "samples"
   ]
  },
  {
   "cell_type": "markdown",
   "id": "50d1ecb8-8338-4b4a-8e9b-ebbb4c8476b1",
   "metadata": {},
   "source": [
    "Em contrapartida, o módulo random interno do Python só obtém a amostra de\n",
    "um valor de cada vez. Como você pode ver nesse benchmark, numpy.random éacima de uma ordem de grandeza mais rápido para a geração de amostras\n",
    "muito grandes:"
   ]
  },
  {
   "cell_type": "code",
   "execution_count": 10,
   "id": "8f61101c-3ebd-437f-a24f-0cfe617d7483",
   "metadata": {},
   "outputs": [
    {
     "name": "stdout",
     "output_type": "stream",
     "text": [
      "1.15 s ± 114 ms per loop (mean ± std. dev. of 7 runs, 1 loop each)\n",
      "42.3 ms ± 792 μs per loop (mean ± std. dev. of 7 runs, 10 loops each)\n"
     ]
    }
   ],
   "source": [
    "from random import normalvariate\n",
    "\n",
    "N = 1_000_000\n",
    "\n",
    "t1 = %timeit samples = [normalvariate(0, 1) for _ in range(N)]\n",
    "\n",
    "t2 = %timeit np.random.standard_normal(N)\n"
   ]
  },
  {
   "cell_type": "markdown",
   "id": "348153fc-9416-475d-9ca5-585ccec4c0ff",
   "metadata": {},
   "source": [
    "**Esses números aleatórios não são realmente aleatórios (são pseudoaleatórios);\n",
    "eles são criados por um gerador de números aleatórios configurável que\n",
    "define deterministicamente que valores serão criados.** Funções como\n",
    "numpy.random.standard_normal usam o gerador de números aleatórios padrão do\n",
    "módulo numpy.random, mas o código pode ser configurado para usar um gerador\n",
    "explícito:"
   ]
  },
  {
   "cell_type": "code",
   "execution_count": 12,
   "id": "d2ea64c0-9bb1-4aae-a2ab-34ec4d3dcdf9",
   "metadata": {},
   "outputs": [
    {
     "data": {
      "text/plain": [
       "array([[-1.42382504,  1.26372846, -0.87066174],\n",
       "       [-0.25917323, -0.07534331, -0.74088465]])"
      ]
     },
     "execution_count": 12,
     "metadata": {},
     "output_type": "execute_result"
    }
   ],
   "source": [
    "rng = np.random.default_rng(seed=12345)\n",
    "\n",
    "data = rng.standard_normal((2, 3))\n",
    "\n",
    "data"
   ]
  },
  {
   "cell_type": "markdown",
   "id": "f1c2d442-7c03-4a27-a681-9a52c514f5d5",
   "metadata": {},
   "source": [
    "O argumento seed é que determina o estado inicial do gerador e o estado muda\n",
    "sempre que o objeto rng é usado para gerar dados. O objeto gerador rng\n",
    "também fica isolado de qualquer outro código que possa usar o módulo\n",
    "numpy.random:"
   ]
  },
  {
   "cell_type": "code",
   "execution_count": 13,
   "id": "9337a2f3-ae5b-4a7b-8adc-8fbad388e7ad",
   "metadata": {},
   "outputs": [
    {
     "data": {
      "text/plain": [
       "numpy.random._generator.Generator"
      ]
     },
     "execution_count": 13,
     "metadata": {},
     "output_type": "execute_result"
    }
   ],
   "source": [
    "type(rng)"
   ]
  },
  {
   "cell_type": "markdown",
   "id": "165be3c7-ec3f-4139-97cd-43c7e8e374e3",
   "metadata": {},
   "source": [
    "## Funções universais: funções rápidas de arrays para todos os elementos\n",
    "\n",
    "Uma **função universal (universal function), ou ufunc, é aquela que executa\n",
    "operações em todos os elementos dos dados dos ndarrays**. Podemos\n",
    "considerá-las como encapsuladores (wrappers) vetorizados rápidos para\n",
    "funções simples que recebem um ou mais valores escalares e produzem um\n",
    "ou mais resultados escalares."
   ]
  },
  {
   "cell_type": "markdown",
   "id": "b3ba1bf1-6132-441f-94c1-0408a9748c01",
   "metadata": {},
   "source": [
    "Muitas ufuncs são transformações simples em todos os elementos, como as\n",
    "de numpy.sqrt ou numpy.exp:"
   ]
  },
  {
   "cell_type": "code",
   "execution_count": 15,
   "id": "da16a544-3988-4e96-a3aa-337dfb6f3515",
   "metadata": {},
   "outputs": [
    {
     "data": {
      "text/plain": [
       "array([0, 1, 2, 3, 4, 5, 6, 7, 8, 9])"
      ]
     },
     "execution_count": 15,
     "metadata": {},
     "output_type": "execute_result"
    }
   ],
   "source": [
    "arr = np.arange(10)\n",
    "arr"
   ]
  },
  {
   "cell_type": "code",
   "execution_count": 16,
   "id": "006b6bf2-a64f-411a-be36-030b087f211a",
   "metadata": {},
   "outputs": [
    {
     "data": {
      "text/plain": [
       "array([0.        , 1.        , 1.41421356, 1.73205081, 2.        ,\n",
       "       2.23606798, 2.44948974, 2.64575131, 2.82842712, 3.        ])"
      ]
     },
     "execution_count": 16,
     "metadata": {},
     "output_type": "execute_result"
    }
   ],
   "source": [
    "np.sqrt(arr)"
   ]
  },
  {
   "cell_type": "code",
   "execution_count": 17,
   "id": "83391d20-f555-4e37-8b80-008d3e1b7861",
   "metadata": {},
   "outputs": [
    {
     "data": {
      "text/plain": [
       "array([1.00000000e+00, 2.71828183e+00, 7.38905610e+00, 2.00855369e+01,\n",
       "       5.45981500e+01, 1.48413159e+02, 4.03428793e+02, 1.09663316e+03,\n",
       "       2.98095799e+03, 8.10308393e+03])"
      ]
     },
     "execution_count": 17,
     "metadata": {},
     "output_type": "execute_result"
    }
   ],
   "source": [
    "np.exp(arr)"
   ]
  },
  {
   "cell_type": "markdown",
   "id": "332e5f76-c784-426a-906b-287c460774ef",
   "metadata": {},
   "source": [
    "**Essas funções são chamadas de ufuncs unárias**. Outras, como **numpy.add ou\n",
    "numpy.maximum, recebem dois arrays (logo, são ufuncs binárias) e retornam um\n",
    "único array como resultado**:"
   ]
  },
  {
   "cell_type": "code",
   "execution_count": 19,
   "id": "af7a1639-daab-4dd1-a6d3-b90974828d65",
   "metadata": {},
   "outputs": [
    {
     "data": {
      "text/plain": [
       "array([ 0.90291934, -1.62158273, -0.15818926,  0.44948393, -1.34360107,\n",
       "       -0.08168759,  1.72473993,  2.61815943])"
      ]
     },
     "execution_count": 19,
     "metadata": {},
     "output_type": "execute_result"
    }
   ],
   "source": [
    "x = rng.standard_normal(8)\n",
    "\n",
    "y = rng.standard_normal(8)\n",
    "\n",
    "x"
   ]
  },
  {
   "cell_type": "code",
   "execution_count": 20,
   "id": "ff4cd987-64ed-469b-804b-b7b8268e2f2e",
   "metadata": {},
   "outputs": [
    {
     "data": {
      "text/plain": [
       "array([ 0.77736134,  0.8286332 , -0.95898831, -1.20938829, -1.41229201,\n",
       "        0.54154683,  0.7519394 , -0.65876032])"
      ]
     },
     "execution_count": 20,
     "metadata": {},
     "output_type": "execute_result"
    }
   ],
   "source": [
    "y"
   ]
  },
  {
   "cell_type": "code",
   "execution_count": 21,
   "id": "0c2c244f-fb38-4f36-a499-584e87f69aa1",
   "metadata": {},
   "outputs": [
    {
     "data": {
      "text/plain": [
       "array([ 0.90291934,  0.8286332 , -0.15818926,  0.44948393, -1.34360107,\n",
       "        0.54154683,  1.72473993,  2.61815943])"
      ]
     },
     "execution_count": 21,
     "metadata": {},
     "output_type": "execute_result"
    }
   ],
   "source": [
    "np.maximum(x, y)"
   ]
  },
  {
   "cell_type": "markdown",
   "id": "3f7ce319-5f6c-4896-9c90-1dbc4fc96c31",
   "metadata": {},
   "source": [
    "Embora não seja comum, **uma ufunc pode retornar múltiplos arrays.\n",
    "numpy.modf é um exemplo: uma versão vetorizada da função math.modf** interna\n",
    "do Python, ela retorna as partes fracionária e inteira de um array de ponto\n",
    "flutuante:"
   ]
  },
  {
   "cell_type": "code",
   "execution_count": 23,
   "id": "399cd876-f8b7-470d-b798-94446071034b",
   "metadata": {},
   "outputs": [
    {
     "data": {
      "text/plain": [
       "array([-5.54107234,  0.67978425,  6.73538882,  0.3057201 ,  0.354573  ,\n",
       "        2.16827269,  1.3874183 ])"
      ]
     },
     "execution_count": 23,
     "metadata": {},
     "output_type": "execute_result"
    }
   ],
   "source": [
    "arr = rng.standard_normal(7) * 5\n",
    "arr"
   ]
  },
  {
   "cell_type": "code",
   "execution_count": 24,
   "id": "77085235-180e-4251-a0fe-d24b314d8de6",
   "metadata": {},
   "outputs": [
    {
     "data": {
      "text/plain": [
       "array([-0.54107234,  0.67978425,  0.73538882,  0.3057201 ,  0.354573  ,\n",
       "        0.16827269,  0.3874183 ])"
      ]
     },
     "execution_count": 24,
     "metadata": {},
     "output_type": "execute_result"
    }
   ],
   "source": [
    "remainder, whole_part = np.modf(arr)\n",
    "remainder"
   ]
  },
  {
   "cell_type": "code",
   "execution_count": 25,
   "id": "0bfadbbf-9a63-4897-bc40-f05607c2b563",
   "metadata": {},
   "outputs": [
    {
     "data": {
      "text/plain": [
       "array([-5.,  0.,  6.,  0.,  0.,  2.,  1.])"
      ]
     },
     "execution_count": 25,
     "metadata": {},
     "output_type": "execute_result"
    }
   ],
   "source": [
    "whole_part"
   ]
  },
  {
   "cell_type": "markdown",
   "id": "41c0ed6b-a8e6-4c11-b7b6-aefe880fa2fe",
   "metadata": {},
   "source": [
    "As ufuncs aceitam um argumento opcional out que as permite atribuir seus\n",
    "resultados a um array existente em vez de criarem um novo array:"
   ]
  },
  {
   "cell_type": "code",
   "execution_count": 27,
   "id": "0d3dac36-aabe-4000-a435-f4786150adb7",
   "metadata": {},
   "outputs": [
    {
     "data": {
      "text/plain": [
       "array([-5.54107234,  0.67978425,  6.73538882,  0.3057201 ,  0.354573  ,\n",
       "        2.16827269,  1.3874183 ])"
      ]
     },
     "execution_count": 27,
     "metadata": {},
     "output_type": "execute_result"
    }
   ],
   "source": [
    "arr"
   ]
  },
  {
   "cell_type": "code",
   "execution_count": 28,
   "id": "36cc5a5b-e413-4e5a-9abe-0cfd84557e41",
   "metadata": {},
   "outputs": [],
   "source": [
    "out = np.zeros_like(arr)"
   ]
  },
  {
   "cell_type": "code",
   "execution_count": 29,
   "id": "3ded20e7-aced-4a4d-aa97-84425a0e5c8c",
   "metadata": {},
   "outputs": [
    {
     "data": {
      "text/plain": [
       "array([-4.54107234,  1.67978425,  7.73538882,  1.3057201 ,  1.354573  ,\n",
       "        3.16827269,  2.3874183 ])"
      ]
     },
     "execution_count": 29,
     "metadata": {},
     "output_type": "execute_result"
    }
   ],
   "source": [
    "np.add(arr, 1)"
   ]
  },
  {
   "cell_type": "code",
   "execution_count": null,
   "id": "e7f6ac1c-563a-4e08-9504-f034b30485d7",
   "metadata": {},
   "outputs": [],
   "source": []
  }
 ],
 "metadata": {
  "kernelspec": {
   "display_name": "Python 3 (ipykernel)",
   "language": "python",
   "name": "python3"
  },
  "language_info": {
   "codemirror_mode": {
    "name": "ipython",
    "version": 3
   },
   "file_extension": ".py",
   "mimetype": "text/x-python",
   "name": "python",
   "nbconvert_exporter": "python",
   "pygments_lexer": "ipython3",
   "version": "3.10.18"
  }
 },
 "nbformat": 4,
 "nbformat_minor": 5
}
