{
 "cells": [
  {
   "cell_type": "markdown",
   "id": "13b9adb1-11fe-4aa8-a7c6-b8fb8466ff4f",
   "metadata": {},
   "source": [
    "### Numpy: Numerical Python \n",
    "Muitos pacotes computacionais que fornecem **funcionalidades científicas usam os objetos de\n",
    "array do NumPy como uma das línguas francas padrão das interfaces para a\n",
    "troca de dados.** Grande parte das informações sobre o NumPy que abordarei\n",
    "também podem ser aplicadas ao pandas."
   ]
  },
  {
   "cell_type": "markdown",
   "id": "f2569c97-1609-44e8-9fbd-65d71b138d70",
   "metadata": {},
   "source": [
    "#### <span style=\"color:green\"> Eficiência no trabalho com grandes arrays de dados. </span>\n",
    "O NumPy é mais rápido do que o código Python\n",
    "comum porque **seus algoritmos baseados em C evitam a sobrecarga\n",
    "presente no código interpretado comum do Python**."
   ]
  },
  {
   "cell_type": "code",
   "execution_count": 2,
   "id": "c33663c7-5e63-4090-98aa-c03cc54480af",
   "metadata": {},
   "outputs": [
    {
     "name": "stdout",
     "output_type": "stream",
     "text": [
      "3.18 ms ± 241 μs per loop (mean ± std. dev. of 7 runs, 100 loops each)\n",
      "106 ms ± 14.5 ms per loop (mean ± std. dev. of 7 runs, 10 loops each)\n"
     ]
    }
   ],
   "source": [
    "import numpy as np\n",
    "\n",
    "my_arr = np.arange(1_000_000)\n",
    "\n",
    "my_list = list(range(1_000_000))\n",
    "\n",
    "t1 = %timeit my_arr2 = my_arr * 2\n",
    "t2 = %timeit my_list2 = [x * 2 for x in my_list]\n"
   ]
  },
  {
   "cell_type": "markdown",
   "id": "440bff31-ae3e-400c-98e6-43dfd6df78b6",
   "metadata": {},
   "source": [
    "#### ndarray do NumPy: um objeto de array multidimensional\n",
    "\n",
    "Um dos principais recursos do NumPy é seu **objeto de array n-dimensional,\n",
    "ou ndarray**, que é um contêiner rápido e flexível para grandes conjuntos de\n",
    "dados em Python."
   ]
  },
  {
   "cell_type": "code",
   "execution_count": 3,
   "id": "5c21c7a0-41a8-4da4-9835-0de65f2a2826",
   "metadata": {},
   "outputs": [
    {
     "data": {
      "text/plain": [
       "array([[ 1.5, -0.1,  3. ],\n",
       "       [ 0. , -3. ,  6.5]])"
      ]
     },
     "execution_count": 3,
     "metadata": {},
     "output_type": "execute_result"
    }
   ],
   "source": [
    "import numpy as np\n",
    "\n",
    "data = np.array([[1.5, -0.1, 3],[0, -3, 6.5]])\n",
    "\n",
    "data"
   ]
  },
  {
   "cell_type": "code",
   "execution_count": 4,
   "id": "845fd21f-70ca-4c83-a608-ace25a2d398a",
   "metadata": {},
   "outputs": [
    {
     "data": {
      "text/plain": [
       "array([[ 15.,  -1.,  30.],\n",
       "       [  0., -30.,  65.]])"
      ]
     },
     "execution_count": 4,
     "metadata": {},
     "output_type": "execute_result"
    }
   ],
   "source": [
    "data * 10"
   ]
  },
  {
   "cell_type": "code",
   "execution_count": 5,
   "id": "c39e66e1-e9a1-48eb-b1af-e3839e914cac",
   "metadata": {},
   "outputs": [
    {
     "data": {
      "text/plain": [
       "array([[ 3. , -0.2,  6. ],\n",
       "       [ 0. , -6. , 13. ]])"
      ]
     },
     "execution_count": 5,
     "metadata": {},
     "output_type": "execute_result"
    }
   ],
   "source": [
    "data + data"
   ]
  },
  {
   "cell_type": "markdown",
   "id": "d533585b-d888-43ac-8a3c-47b82646af08",
   "metadata": {},
   "source": [
    "**Um ndarray é um contêiner multidimensional genérico para dados\n",
    "homogêneos;** isto é, todos os elementos devem ser do mesmo tipo. Todo\n",
    "array tem uma forma (shape), uma tupla que indica o tamanho de cada\n",
    "dimensão, e um dtype, um objeto que descreve o tipo de dado do array:"
   ]
  },
  {
   "cell_type": "code",
   "execution_count": 6,
   "id": "aec3337c-291d-46ac-8a1d-e9d5c9d9c172",
   "metadata": {},
   "outputs": [
    {
     "name": "stdout",
     "output_type": "stream",
     "text": [
      "Shape: (2, 3)\n",
      "dtype: float64\n"
     ]
    }
   ],
   "source": [
    "print(f\"Shape: {data.shape}\\ndtype: {data.dtype}\")"
   ]
  },
  {
   "cell_type": "markdown",
   "id": "2101b6ed-87c6-4e33-917f-862fcfc8bcd9",
   "metadata": {},
   "source": [
    "#### Criação de ndarrays\n",
    "A maneira mais fácil de **criar um array é usando a função array**. Ela **aceita\n",
    "qualquer objeto de tipo sequência (inclusive outros arrays) e produz um novo\n",
    "array NumPy contendo os dados passados**. Por exemplo, uma lista é uma boa\n",
    "candidata à conversão:"
   ]
  },
  {
   "cell_type": "code",
   "execution_count": 7,
   "id": "048b26e6-102a-4297-9c21-ef43813f8bf7",
   "metadata": {},
   "outputs": [
    {
     "data": {
      "text/plain": [
       "array([6. , 7.5, 8. , 0. , 1. ])"
      ]
     },
     "execution_count": 7,
     "metadata": {},
     "output_type": "execute_result"
    }
   ],
   "source": [
    "import numpy as np\n",
    "\n",
    "data1 = [6, 7.5, 8, 0, 1]\n",
    "arr1 = np.array(data1)\n",
    "arr1"
   ]
  },
  {
   "cell_type": "code",
   "execution_count": 8,
   "id": "1fe64de3-2d45-4e1f-b1b7-34de20cbe29a",
   "metadata": {},
   "outputs": [
    {
     "data": {
      "text/plain": [
       "array([1., 1., 1., 1., 1.])"
      ]
     },
     "execution_count": 8,
     "metadata": {},
     "output_type": "execute_result"
    }
   ],
   "source": [
    "np.ones_like(arr1)"
   ]
  },
  {
   "cell_type": "code",
   "execution_count": 9,
   "id": "507b5414-fd4f-4d4a-9eed-07c435a9bef6",
   "metadata": {},
   "outputs": [
    {
     "data": {
      "text/plain": [
       "array([[1, 2, 3, 4],\n",
       "       [5, 6, 7, 8]])"
      ]
     },
     "execution_count": 9,
     "metadata": {},
     "output_type": "execute_result"
    }
   ],
   "source": [
    "# Sequências aninhadas, como uma lista de listas de mesmo tamanho, serão\n",
    "# convertidas em um array multidimensional:\n",
    "data2 = [[1, 2, 3, 4], [5, 6, 7, 8]]\n",
    "arr2 = np.array(data2)\n",
    "arr2"
   ]
  },
  {
   "cell_type": "code",
   "execution_count": 10,
   "id": "35dcc595-5bc0-44ed-ba98-ee6f8416e924",
   "metadata": {},
   "outputs": [
    {
     "data": {
      "text/plain": [
       "2"
      ]
     },
     "execution_count": 10,
     "metadata": {},
     "output_type": "execute_result"
    }
   ],
   "source": [
    "arr2.ndim"
   ]
  },
  {
   "cell_type": "code",
   "execution_count": 11,
   "id": "da3540c2-2922-420c-8423-6b80badca469",
   "metadata": {},
   "outputs": [
    {
     "data": {
      "text/plain": [
       "(2, 4)"
      ]
     },
     "execution_count": 11,
     "metadata": {},
     "output_type": "execute_result"
    }
   ],
   "source": [
    "arr2.shape"
   ]
  },
  {
   "cell_type": "code",
   "execution_count": 12,
   "id": "e593bb83-9eda-4650-8686-dee93ab37f09",
   "metadata": {},
   "outputs": [
    {
     "name": "stdout",
     "output_type": "stream",
     "text": [
      "Tipo de dado arr1: float64\n",
      "Tipo de dado arr2: int64\n"
     ]
    }
   ],
   "source": [
    "print(f\"Tipo de dado arr1: {arr1.dtype}\\nTipo de dado arr2: {arr2.dtype}\")"
   ]
  },
  {
   "cell_type": "code",
   "execution_count": 13,
   "id": "6b13080d-1aba-43a1-b051-40cfcb676cbb",
   "metadata": {},
   "outputs": [
    {
     "data": {
      "text/plain": [
       "array([0., 0., 0., 0., 0., 0., 0., 0., 0., 0.])"
      ]
     },
     "execution_count": 13,
     "metadata": {},
     "output_type": "execute_result"
    }
   ],
   "source": [
    "# Como exemplos, numpy.zeros e numpy.ones criam arrays de 0s ou 1s\n",
    "arrzeros = np.zeros(10)\n",
    "arrzeros"
   ]
  },
  {
   "cell_type": "code",
   "execution_count": 14,
   "id": "f2d56a48-81dc-4d55-8b78-d8476868f40c",
   "metadata": {},
   "outputs": [
    {
     "data": {
      "text/plain": [
       "array([[1., 1., 1., 1., 1., 1.],\n",
       "       [1., 1., 1., 1., 1., 1.],\n",
       "       [1., 1., 1., 1., 1., 1.]])"
      ]
     },
     "execution_count": 14,
     "metadata": {},
     "output_type": "execute_result"
    }
   ],
   "source": [
    "np.ones((3, 6))"
   ]
  },
  {
   "cell_type": "code",
   "execution_count": 15,
   "id": "37c7b833-7d8f-43dd-914f-a4e39ae2586e",
   "metadata": {},
   "outputs": [
    {
     "data": {
      "text/plain": [
       "array([[[1.14666863e-313, 0.00000000e+000],\n",
       "        [0.00000000e+000, 0.00000000e+000],\n",
       "        [4.69661328e-310, 8.24423421e-071]],\n",
       "\n",
       "       [[5.29170376e+174, 1.38028719e-071],\n",
       "        [5.74113735e+174, 1.51957240e-047],\n",
       "        [7.87249355e-067, 8.69541422e-043]]])"
      ]
     },
     "execution_count": 15,
     "metadata": {},
     "output_type": "execute_result"
    }
   ],
   "source": [
    "# numpy.empty cria um array sem inicializá-lo com nenhum valor específico. Pode conter lixos\n",
    "np.empty((2, 3, 2))"
   ]
  },
  {
   "cell_type": "code",
   "execution_count": 16,
   "id": "a42b7137-df0d-4acd-8d3e-fffae7657d16",
   "metadata": {},
   "outputs": [
    {
     "data": {
      "text/plain": [
       "array([ 0,  1,  2,  3,  4,  5,  6,  7,  8,  9, 10, 11, 12, 13, 14])"
      ]
     },
     "execution_count": 16,
     "metadata": {},
     "output_type": "execute_result"
    }
   ],
   "source": [
    "# numpy.arange é uma versão da função interna Python range cujo valor é um array:\n",
    "np.arange(15)"
   ]
  },
  {
   "cell_type": "code",
   "execution_count": 17,
   "id": "626047ed-e0bf-4112-995d-93dd7b4a538b",
   "metadata": {},
   "outputs": [
    {
     "data": {
      "text/plain": [
       "array([[1., 0., 0., 0., 0.],\n",
       "       [0., 1., 0., 0., 0.],\n",
       "       [0., 0., 1., 0., 0.],\n",
       "       [0., 0., 0., 1., 0.],\n",
       "       [0., 0., 0., 0., 1.]])"
      ]
     },
     "execution_count": 17,
     "metadata": {},
     "output_type": "execute_result"
    }
   ],
   "source": [
    "np.identity(5)\n",
    "# or np.eye(5)"
   ]
  },
  {
   "cell_type": "markdown",
   "id": "af64c1fc-ce8d-4a20-a11e-c91e8681bfb8",
   "metadata": {
    "jp-MarkdownHeadingCollapsed": true
   },
   "source": [
    "#### Tipos de dados para ndarrays\n",
    "O tipo de dado ou dtype é um objeto especial contendo as informações (ou\n",
    "metadados, dados sobre dados) das quais o ndarray precisará para interpretar\n",
    "uma parte da memória como um tipo de dado específico:"
   ]
  },
  {
   "cell_type": "code",
   "execution_count": 18,
   "id": "78592ffa-1899-47cb-8111-ac99f753db7f",
   "metadata": {},
   "outputs": [],
   "source": [
    "import numpy as np\n",
    "\n",
    "arr1 = np.array([1, 2, 3], dtype=np.float64)\n",
    "\n",
    "arr2 = np.array([1, 2, 3], dtype=np.int32)"
   ]
  },
  {
   "cell_type": "code",
   "execution_count": 19,
   "id": "e74f1a57-aa76-43ef-9320-c1d3c50c707b",
   "metadata": {},
   "outputs": [
    {
     "data": {
      "text/plain": [
       "dtype('float64')"
      ]
     },
     "execution_count": 19,
     "metadata": {},
     "output_type": "execute_result"
    }
   ],
   "source": [
    "arr1.dtype"
   ]
  },
  {
   "cell_type": "code",
   "execution_count": 20,
   "id": "5edf247d-d918-4338-b068-f4e1cca89ce4",
   "metadata": {},
   "outputs": [
    {
     "data": {
      "text/plain": [
       "dtype('int32')"
      ]
     },
     "execution_count": 20,
     "metadata": {},
     "output_type": "execute_result"
    }
   ],
   "source": [
    "arr2.dtype"
   ]
  },
  {
   "cell_type": "code",
   "execution_count": 21,
   "id": "47907662-df3d-434d-af2e-32e5069a4dcf",
   "metadata": {},
   "outputs": [
    {
     "data": {
      "text/plain": [
       "dtype('int64')"
      ]
     },
     "execution_count": 21,
     "metadata": {},
     "output_type": "execute_result"
    }
   ],
   "source": [
    "# Casting de um array\n",
    "arr = np.array([1, 2, 3, 4, 5])\n",
    "arr.dtype"
   ]
  },
  {
   "cell_type": "code",
   "execution_count": 22,
   "id": "c6b532de-80a7-4639-929c-29ed6e50d4a1",
   "metadata": {},
   "outputs": [
    {
     "data": {
      "text/plain": [
       "array([1., 2., 3., 4., 5.])"
      ]
     },
     "execution_count": 22,
     "metadata": {},
     "output_type": "execute_result"
    }
   ],
   "source": [
    "float_arr = arr.astype(np.float64)\n",
    "float_arr"
   ]
  },
  {
   "cell_type": "markdown",
   "id": "eb75b9d9-e0dc-4e67-91e9-1f2b75274eb1",
   "metadata": {
    "jp-MarkdownHeadingCollapsed": true
   },
   "source": [
    "#### Aritmética com Arrays Numpy\n",
    "**Os arrays são importantes porque permitem expressar operações em lote com\n",
    "os dados sem ser preciso escrever nenhum loop for**. Os usuários do NumPy\n",
    "chamam isso de <span style=\"color: red\"> vetorização</span>. Qualquer operação aritmética entre arrays de\n",
    "mesmo tamanho é aplicada a todos os elementos:"
   ]
  },
  {
   "cell_type": "code",
   "execution_count": 23,
   "id": "809bba78-2e2f-4bd1-af07-ba089afad430",
   "metadata": {},
   "outputs": [
    {
     "data": {
      "text/plain": [
       "array([[1., 2., 3.],\n",
       "       [4., 5., 6.]])"
      ]
     },
     "execution_count": 23,
     "metadata": {},
     "output_type": "execute_result"
    }
   ],
   "source": [
    "import numpy as np\n",
    "\n",
    "arr = np.array([[1., 2., 3.], [4., 5., 6.]])\n",
    "\n",
    "arr"
   ]
  },
  {
   "cell_type": "code",
   "execution_count": 24,
   "id": "1a7cedef-f9ce-460f-b11f-e7f3e08e2761",
   "metadata": {},
   "outputs": [
    {
     "data": {
      "text/plain": [
       "array([[ 1.,  4.,  9.],\n",
       "       [16., 25., 36.]])"
      ]
     },
     "execution_count": 24,
     "metadata": {},
     "output_type": "execute_result"
    }
   ],
   "source": [
    "arr * arr"
   ]
  },
  {
   "cell_type": "code",
   "execution_count": 25,
   "id": "6e5e2621-55e3-4c64-b41b-f212c6b98e15",
   "metadata": {},
   "outputs": [
    {
     "data": {
      "text/plain": [
       "array([[0., 0., 0.],\n",
       "       [0., 0., 0.]])"
      ]
     },
     "execution_count": 25,
     "metadata": {},
     "output_type": "execute_result"
    }
   ],
   "source": [
    "arr - arr"
   ]
  },
  {
   "cell_type": "markdown",
   "id": "a6a960ce-9563-4aae-87d8-cba9308111cf",
   "metadata": {},
   "source": [
    "As operações aritméticas com escalares propagam o argumento escalar para\n",
    "cada elemento do array:"
   ]
  },
  {
   "cell_type": "code",
   "execution_count": 26,
   "id": "3f482cbc-a04a-4dba-83a4-25695bd36e97",
   "metadata": {},
   "outputs": [
    {
     "data": {
      "text/plain": [
       "array([[1.        , 0.5       , 0.33333333],\n",
       "       [0.25      , 0.2       , 0.16666667]])"
      ]
     },
     "execution_count": 26,
     "metadata": {},
     "output_type": "execute_result"
    }
   ],
   "source": [
    "1 / arr"
   ]
  },
  {
   "cell_type": "code",
   "execution_count": 27,
   "id": "f49bf5bc-6bab-4958-a65a-c89488fbc71f",
   "metadata": {},
   "outputs": [
    {
     "data": {
      "text/plain": [
       "array([[ 1.,  4.,  9.],\n",
       "       [16., 25., 36.]])"
      ]
     },
     "execution_count": 27,
     "metadata": {},
     "output_type": "execute_result"
    }
   ],
   "source": [
    "arr ** 2"
   ]
  },
  {
   "cell_type": "markdown",
   "id": "dbc4a59b-3b2e-4b9c-a41f-d93203a037c9",
   "metadata": {},
   "source": [
    "**As comparações entre arrays de mesmo tamanho geram arrays booleanos:**"
   ]
  },
  {
   "cell_type": "code",
   "execution_count": 28,
   "id": "a28907f6-2ef4-49e7-8999-297a56e7241b",
   "metadata": {},
   "outputs": [
    {
     "data": {
      "text/plain": [
       "array([[ 0.,  4.,  1.],\n",
       "       [ 7.,  2., 12.]])"
      ]
     },
     "execution_count": 28,
     "metadata": {},
     "output_type": "execute_result"
    }
   ],
   "source": [
    "arr2 = np.array([[0., 4., 1.], [7., 2., 12.]])\n",
    "\n",
    "arr2"
   ]
  },
  {
   "cell_type": "code",
   "execution_count": 29,
   "id": "e160e1ee-e8c5-4fb9-ba67-02ceea760dda",
   "metadata": {},
   "outputs": [
    {
     "data": {
      "text/plain": [
       "array([[False,  True, False],\n",
       "       [ True, False,  True]])"
      ]
     },
     "execution_count": 29,
     "metadata": {},
     "output_type": "execute_result"
    }
   ],
   "source": [
    "arr2 > arr"
   ]
  },
  {
   "cell_type": "markdown",
   "id": "69d5c6cc-ee83-42ac-b344-9dbb2f734b2b",
   "metadata": {
    "jp-MarkdownHeadingCollapsed": true
   },
   "source": [
    "#### Indexação e fatiamento básicos\n",
    "A indexação de arrays NumPy é um tópico extenso, já que existem muitas\n",
    "maneiras de selecionar um subconjunto dos dados ou elementos individuais.\n",
    "Os arrays unidimensionais são simples; superficialmente eles se comportam\n",
    "de modo semelhante às listas Python:"
   ]
  },
  {
   "cell_type": "code",
   "execution_count": 30,
   "id": "16e8e2a4-c38c-45a8-b86c-302764fc74e0",
   "metadata": {},
   "outputs": [
    {
     "data": {
      "text/plain": [
       "array([0, 1, 2, 3, 4, 5, 6, 7, 8, 9])"
      ]
     },
     "execution_count": 30,
     "metadata": {},
     "output_type": "execute_result"
    }
   ],
   "source": [
    "import numpy as np\n",
    "\n",
    "arr = np.arange(10)\n",
    "\n",
    "arr"
   ]
  },
  {
   "cell_type": "code",
   "execution_count": 31,
   "id": "6f7c636b-16f9-4e21-8479-9b34c1b1e779",
   "metadata": {},
   "outputs": [
    {
     "data": {
      "text/plain": [
       "np.int64(5)"
      ]
     },
     "execution_count": 31,
     "metadata": {},
     "output_type": "execute_result"
    }
   ],
   "source": [
    "arr[5]"
   ]
  },
  {
   "cell_type": "code",
   "execution_count": 32,
   "id": "b0ed5862-f684-4084-9fa7-53cd29980742",
   "metadata": {},
   "outputs": [
    {
     "data": {
      "text/plain": [
       "array([5, 6, 7])"
      ]
     },
     "execution_count": 32,
     "metadata": {},
     "output_type": "execute_result"
    }
   ],
   "source": [
    "arr[5:8]"
   ]
  },
  {
   "cell_type": "code",
   "execution_count": 33,
   "id": "b160c7ba-8162-4cec-a0a6-e5feadeb95bb",
   "metadata": {},
   "outputs": [
    {
     "data": {
      "text/plain": [
       "array([ 0,  1,  2,  3,  4, 12, 12, 12,  8,  9])"
      ]
     },
     "execution_count": 33,
     "metadata": {},
     "output_type": "execute_result"
    }
   ],
   "source": [
    "arr[5:8] = 12\n",
    "arr"
   ]
  },
  {
   "cell_type": "markdown",
   "id": "dafa0297-e180-4fd7-840e-00614ce8b21b",
   "metadata": {},
   "source": [
    "Como você pode ver, se atribuirmos um valor escalar a uma fatia, como em\n",
    "arr[5:8] = 12, ele **será propagado (ou, como usarei de agora em diante, será feito\n",
    "o seu broadcast) para toda a seleção.**"
   ]
  },
  {
   "cell_type": "code",
   "execution_count": 34,
   "id": "ec396538-be99-4f51-9bda-ea018df9ed39",
   "metadata": {},
   "outputs": [
    {
     "data": {
      "text/plain": [
       "array([12, 12, 12])"
      ]
     },
     "execution_count": 34,
     "metadata": {},
     "output_type": "execute_result"
    }
   ],
   "source": [
    "# CUIDADO\n",
    "arr_slice = arr[5:8]\n",
    "\n",
    "arr_slice"
   ]
  },
  {
   "cell_type": "code",
   "execution_count": 35,
   "id": "d609723f-a7c7-4a65-9340-a41ccd76cad9",
   "metadata": {},
   "outputs": [
    {
     "data": {
      "text/plain": [
       "array([    0,     1,     2,     3,     4,    12, 12345,    12,     8,\n",
       "           9])"
      ]
     },
     "execution_count": 35,
     "metadata": {},
     "output_type": "execute_result"
    }
   ],
   "source": [
    "arr_slice[1] = 12345\n",
    "\n",
    "arr"
   ]
  },
  {
   "cell_type": "markdown",
   "id": "97aebfa5-3398-4267-9a49-2ca39e3b13b9",
   "metadata": {},
   "source": [
    "A fatia “vazia” [:] faz a atribuição a todos os valores em um array:"
   ]
  },
  {
   "cell_type": "code",
   "execution_count": 36,
   "id": "6b70cbc8-77df-4444-9a44-40d04e6d6a21",
   "metadata": {},
   "outputs": [],
   "source": [
    "arr_slice[:] = 64"
   ]
  },
  {
   "cell_type": "code",
   "execution_count": 37,
   "id": "900f0044-d0a7-47b8-83cb-94f70f595ca4",
   "metadata": {},
   "outputs": [
    {
     "data": {
      "text/plain": [
       "array([ 0,  1,  2,  3,  4, 64, 64, 64,  8,  9])"
      ]
     },
     "execution_count": 37,
     "metadata": {},
     "output_type": "execute_result"
    }
   ],
   "source": [
    "arr"
   ]
  },
  {
   "cell_type": "markdown",
   "id": "4ef92287-dbc8-486f-bcbc-39553e82a534",
   "metadata": {},
   "source": [
    "<span style=\"color: red\">**Se quiser a cópia de uma fatia de um ndarray em vez de uma\n",
    "visualização, você precisará copiar o array explicitamente – por\n",
    "exemplo, arr[5:8].copy().** Como veremos, o pandas também funciona assim. </span>"
   ]
  },
  {
   "cell_type": "code",
   "execution_count": 38,
   "id": "8e2e7aa6-a66f-4d64-ad91-37ee23d6cef6",
   "metadata": {},
   "outputs": [
    {
     "data": {
      "text/plain": [
       "array([ 0,  1,  2,  3,  4, 64, 64, 64,  8,  9])"
      ]
     },
     "execution_count": 38,
     "metadata": {},
     "output_type": "execute_result"
    }
   ],
   "source": [
    "arr_slice2 = arr[5:8].copy()\n",
    "arr_slice2[:] = 1\n",
    "\n",
    "arr"
   ]
  },
  {
   "cell_type": "code",
   "execution_count": 39,
   "id": "2df8d88b-b30b-4694-a487-6b8f82539a88",
   "metadata": {},
   "outputs": [
    {
     "data": {
      "text/plain": [
       "array([1, 1, 1])"
      ]
     },
     "execution_count": 39,
     "metadata": {},
     "output_type": "execute_result"
    }
   ],
   "source": [
    "arr_slice2"
   ]
  },
  {
   "cell_type": "markdown",
   "id": "15d654b0-e644-47d9-9928-d6f3f2c5c2e7",
   "metadata": {},
   "source": [
    "Com arrays de mais dimensões temos uma variedade maior de opções. **Em\n",
    "um array bidimensional, os elementos de cada índice não são mais escalares e\n",
    "sim arrays unidimensionais**:"
   ]
  },
  {
   "cell_type": "code",
   "execution_count": 40,
   "id": "be88d29a-7c67-4ed4-ac93-a86ec34a2c4f",
   "metadata": {},
   "outputs": [
    {
     "data": {
      "text/plain": [
       "array([[1, 2, 3],\n",
       "       [4, 5, 6],\n",
       "       [7, 8, 9]])"
      ]
     },
     "execution_count": 40,
     "metadata": {},
     "output_type": "execute_result"
    }
   ],
   "source": [
    "arr2d = np.array([[1, 2, 3], [4, 5, 6], [7, 8, 9]])\n",
    "arr2d"
   ]
  },
  {
   "cell_type": "code",
   "execution_count": 41,
   "id": "39992907-30c0-4bff-931f-7b08b2924f44",
   "metadata": {},
   "outputs": [
    {
     "data": {
      "text/plain": [
       "array([7, 8, 9])"
      ]
     },
     "execution_count": 41,
     "metadata": {},
     "output_type": "execute_result"
    }
   ],
   "source": [
    "arr2d[2]"
   ]
  },
  {
   "cell_type": "code",
   "execution_count": 42,
   "id": "bb2c133d-ae6f-4cd6-8430-31f680830ce8",
   "metadata": {},
   "outputs": [
    {
     "data": {
      "text/plain": [
       "np.int64(3)"
      ]
     },
     "execution_count": 42,
     "metadata": {},
     "output_type": "execute_result"
    }
   ],
   "source": [
    "# Formas de acessar o elemento individualmente:\n",
    "arr2d[0][2]"
   ]
  },
  {
   "cell_type": "code",
   "execution_count": 43,
   "id": "c8894d60-2591-45b9-848c-fc3689b67637",
   "metadata": {},
   "outputs": [
    {
     "data": {
      "text/plain": [
       "np.int64(3)"
      ]
     },
     "execution_count": 43,
     "metadata": {},
     "output_type": "execute_result"
    }
   ],
   "source": [
    "arr2d[0, 2]"
   ]
  },
  {
   "attachments": {
    "781681a5-b7db-4f27-8628-ae29afaeeb30.png": {
     "image/png": "[encoded data removed]"
    }
   },
   "cell_type": "markdown",
   "id": "22abd73c-2d8e-4365-94ce-6d237c5a58ad",
   "metadata": {},
   "source": [
    "![image.png](attachment:781681a5-b7db-4f27-8628-ae29afaeeb30.png)"
   ]
  },
  {
   "cell_type": "markdown",
   "id": "68a8d044-9f87-425c-a62a-886672345769",
   "metadata": {},
   "source": [
    "Em arrays multidimensionais, se você omitir os índices finais, o objeto\n",
    "retornado será um ndarray de menos dimensões composto de todos os dados\n",
    "nas dimensões mais altas."
   ]
  },
  {
   "cell_type": "code",
   "execution_count": 44,
   "id": "d85634d4-cc2b-41cb-9103-0debbccb2131",
   "metadata": {},
   "outputs": [
    {
     "data": {
      "text/plain": [
       "array([[[ 1,  2,  3],\n",
       "        [ 4,  5,  6]],\n",
       "\n",
       "       [[ 7,  8,  9],\n",
       "        [10, 11, 12]]])"
      ]
     },
     "execution_count": 44,
     "metadata": {},
     "output_type": "execute_result"
    }
   ],
   "source": [
    "arr3d = np.array([[[1, 2, 3], [4, 5, 6]], [[7, 8, 9], [10, 11, 12]]])\n",
    "arr3d"
   ]
  },
  {
   "cell_type": "code",
   "execution_count": 45,
   "id": "0fd0ef64-d099-4efc-b5cf-627c3acaef41",
   "metadata": {},
   "outputs": [
    {
     "data": {
      "text/plain": [
       "array([[1, 2, 3],\n",
       "       [4, 5, 6]])"
      ]
     },
     "execution_count": 45,
     "metadata": {},
     "output_type": "execute_result"
    }
   ],
   "source": [
    "arr3d[0] # é um array 2x3"
   ]
  },
  {
   "cell_type": "markdown",
   "id": "b4e5d738-dd44-41fa-aebf-8f36ff3a1103",
   "metadata": {},
   "source": [
    "Tanto valores escalares quanto arrays podem ser atribuídos a arr3d[0]:"
   ]
  },
  {
   "cell_type": "code",
   "execution_count": 48,
   "id": "3427ac56-a3ad-4666-aba5-0556363166b0",
   "metadata": {},
   "outputs": [
    {
     "data": {
      "text/plain": [
       "array([[[42, 42, 42],\n",
       "        [42, 42, 42]],\n",
       "\n",
       "       [[ 7,  8,  9],\n",
       "        [10, 11, 12]]])"
      ]
     },
     "execution_count": 48,
     "metadata": {},
     "output_type": "execute_result"
    }
   ],
   "source": [
    "old_values = arr3d[0].copy()\n",
    "arr3d[0] = 42\n",
    "arr3d"
   ]
  },
  {
   "cell_type": "code",
   "execution_count": 49,
   "id": "9120acd6-cd37-4689-a116-a2870ce9037e",
   "metadata": {},
   "outputs": [
    {
     "data": {
      "text/plain": [
       "array([[[ 1,  2,  3],\n",
       "        [ 4,  5,  6]],\n",
       "\n",
       "       [[ 7,  8,  9],\n",
       "        [10, 11, 12]]])"
      ]
     },
     "execution_count": 49,
     "metadata": {},
     "output_type": "execute_result"
    }
   ],
   "source": [
    "arr3d[0] = old_values\n",
    "arr3d"
   ]
  },
  {
   "cell_type": "markdown",
   "id": "f2dddf3f-3643-45cf-aef8-48cacc55a5da",
   "metadata": {},
   "source": [
    "Da mesma forma, arr3d[1, 0] fornece todos os valores cujos índices comecem\n",
    "com (1, 0), formando um array unidimensional:"
   ]
  },
  {
   "cell_type": "code",
   "execution_count": 50,
   "id": "ee7cb597-d086-4732-ab0b-176c4e6d0b17",
   "metadata": {},
   "outputs": [
    {
     "data": {
      "text/plain": [
       "array([7, 8, 9])"
      ]
     },
     "execution_count": 50,
     "metadata": {},
     "output_type": "execute_result"
    }
   ],
   "source": [
    "arr3d[1, 0]"
   ]
  },
  {
   "cell_type": "code",
   "execution_count": 51,
   "id": "9d47cb2f-3527-430c-b7e4-8dcc49c36283",
   "metadata": {},
   "outputs": [
    {
     "data": {
      "text/plain": [
       "array([[ 7,  8,  9],\n",
       "       [10, 11, 12]])"
      ]
     },
     "execution_count": 51,
     "metadata": {},
     "output_type": "execute_result"
    }
   ],
   "source": [
    "x = arr3d[1]\n",
    "x"
   ]
  },
  {
   "cell_type": "code",
   "execution_count": 52,
   "id": "46b8aead-87ce-413f-8eef-99df1c228cc0",
   "metadata": {},
   "outputs": [
    {
     "data": {
      "text/plain": [
       "array([7, 8, 9])"
      ]
     },
     "execution_count": 52,
     "metadata": {},
     "output_type": "execute_result"
    }
   ],
   "source": [
    "x[0]"
   ]
  },
  {
   "cell_type": "markdown",
   "id": "d6b2fccd-74cd-47c8-9622-d89920899d20",
   "metadata": {
    "jp-MarkdownHeadingCollapsed": true
   },
   "source": [
    "#### Indexação com fatias"
   ]
  },
  {
   "cell_type": "code",
   "execution_count": 53,
   "id": "6a5bdfcf-d446-4150-be02-55f42e4f05cc",
   "metadata": {},
   "outputs": [
    {
     "data": {
      "text/plain": [
       "array([[1, 2, 3],\n",
       "       [4, 5, 6],\n",
       "       [7, 8, 9]])"
      ]
     },
     "execution_count": 53,
     "metadata": {},
     "output_type": "execute_result"
    }
   ],
   "source": [
    "import numpy as np\n",
    "\n",
    "arr2d = np.array([[1, 2, 3], [4, 5, 6], [7, 8, 9]])\n",
    "arr2d"
   ]
  },
  {
   "cell_type": "code",
   "execution_count": 68,
   "id": "10816ed4-5b11-45f6-ae52-02eb117fdccc",
   "metadata": {},
   "outputs": [
    {
     "data": {
      "text/plain": [
       "(3, 3)"
      ]
     },
     "execution_count": 68,
     "metadata": {},
     "output_type": "execute_result"
    }
   ],
   "source": [
    "arr2d.shape"
   ]
  },
  {
   "cell_type": "code",
   "execution_count": 54,
   "id": "37f643c9-cc10-41cc-a128-f6d734b7f6e7",
   "metadata": {},
   "outputs": [
    {
     "data": {
      "text/plain": [
       "array([[1, 2, 3],\n",
       "       [4, 5, 6]])"
      ]
     },
     "execution_count": 54,
     "metadata": {},
     "output_type": "execute_result"
    }
   ],
   "source": [
    "arr2d[:2]"
   ]
  },
  {
   "cell_type": "markdown",
   "id": "3056f8f4-064e-4a51-a2ef-afbc443708d2",
   "metadata": {},
   "source": [
    "Como você pode ver, ele foi fatiado ao longo do eixo 0, que é o primeiroeixo. Uma fatia, portanto, seleciona um intervalo de elementos ao longo de\n",
    "um eixo. Ler a expressão arr2d[:2] como “selecione as duas primeiras linhas de\n",
    "arr2d” pode ajudar."
   ]
  },
  {
   "cell_type": "code",
   "execution_count": 59,
   "id": "fa15725a-382e-4bd6-bd11-0c99488111af",
   "metadata": {},
   "outputs": [
    {
     "data": {
      "text/plain": [
       "array([[2, 3],\n",
       "       [5, 6]])"
      ]
     },
     "execution_count": 59,
     "metadata": {},
     "output_type": "execute_result"
    }
   ],
   "source": [
    "arr2d[:2, 1:]"
   ]
  },
  {
   "cell_type": "code",
   "execution_count": 61,
   "id": "ad1c27e2-542c-4c8f-8c84-1fdf95c09cce",
   "metadata": {},
   "outputs": [
    {
     "data": {
      "text/plain": [
       "array([4, 5])"
      ]
     },
     "execution_count": 61,
     "metadata": {},
     "output_type": "execute_result"
    }
   ],
   "source": [
    "lower_dim_slice = arr2d[1, :2]\n",
    "lower_dim_slice"
   ]
  },
  {
   "cell_type": "code",
   "execution_count": 62,
   "id": "2e13cb84-9f97-4fb8-b492-6932e8ecdb6b",
   "metadata": {},
   "outputs": [
    {
     "data": {
      "text/plain": [
       "(2,)"
      ]
     },
     "execution_count": 62,
     "metadata": {},
     "output_type": "execute_result"
    }
   ],
   "source": [
    "lower_dim_slice.shape"
   ]
  },
  {
   "cell_type": "code",
   "execution_count": 69,
   "id": "87314b7d-d0fb-478b-94e4-e6d4dd8d12d1",
   "metadata": {},
   "outputs": [
    {
     "data": {
      "text/plain": [
       "(3, 1)"
      ]
     },
     "execution_count": 69,
     "metadata": {},
     "output_type": "execute_result"
    }
   ],
   "source": [
    "arrx = np.array([[1], [2], [3]])\n",
    "arrx.shape"
   ]
  },
  {
   "cell_type": "code",
   "execution_count": 70,
   "id": "b3f56aff-4878-420b-bd8f-d3f7e87b5fd4",
   "metadata": {},
   "outputs": [
    {
     "data": {
      "text/plain": [
       "array([3, 6])"
      ]
     },
     "execution_count": 70,
     "metadata": {},
     "output_type": "execute_result"
    }
   ],
   "source": [
    "arr2d[:2, 2]"
   ]
  },
  {
   "cell_type": "code",
   "execution_count": 71,
   "id": "15f733cf-631b-4f0b-9955-d92e7961a834",
   "metadata": {},
   "outputs": [
    {
     "data": {
      "text/plain": [
       "array([[1],\n",
       "       [4],\n",
       "       [7]])"
      ]
     },
     "execution_count": 71,
     "metadata": {},
     "output_type": "execute_result"
    }
   ],
   "source": [
    "arr2d[:, :1]"
   ]
  },
  {
   "cell_type": "markdown",
   "id": "c2a90127-dc2b-457b-bc3b-271ad21e1259",
   "metadata": {},
   "source": [
    "É claro que fazer uma atribuição para uma expressão de fatia faz a atribuição\n",
    "para toda a seleção:\n"
   ]
  },
  {
   "cell_type": "code",
   "execution_count": 72,
   "id": "fa5901ea-bf15-4c72-b99f-5700bb367995",
   "metadata": {},
   "outputs": [
    {
     "data": {
      "text/plain": [
       "array([[1, 0, 0],\n",
       "       [4, 0, 0],\n",
       "       [7, 8, 9]])"
      ]
     },
     "execution_count": 72,
     "metadata": {},
     "output_type": "execute_result"
    }
   ],
   "source": [
    "arr2d[:2, 1:] = 0\n",
    "arr2d"
   ]
  },
  {
   "attachments": {
    "feb193cf-a3b4-4873-892d-1aa6bda5e7c2.png": {
     "image/png": "[encoded data removed]"
    }
   },
   "cell_type": "markdown",
   "id": "bda38e51-f319-40b7-9ccb-69fa375523e3",
   "metadata": {},
   "source": [
    "![image.png](attachment:feb193cf-a3b4-4873-892d-1aa6bda5e7c2.png)"
   ]
  },
  {
   "cell_type": "markdown",
   "id": "a7f9902d-5dd8-488c-b5ce-c37c56a7d80b",
   "metadata": {
    "jp-MarkdownHeadingCollapsed": true
   },
   "source": [
    "#### Indexação Booleana"
   ]
  },
  {
   "cell_type": "markdown",
   "id": "c90f95da-a4e8-443a-a38a-f5b2c9d13d72",
   "metadata": {},
   "source": [
    "Consideraremos um exemplo no qual temos alguns dados em um array e um\n",
    "array de nomes com duplicidades:"
   ]
  },
  {
   "cell_type": "code",
   "execution_count": 74,
   "id": "f824bc19-a001-49a6-a86e-0a1abc326fec",
   "metadata": {},
   "outputs": [
    {
     "data": {
      "text/plain": [
       "array(['Bob', 'Joe', 'Will', 'Bob', 'Will', 'Joe', 'Joe'], dtype='<U4')"
      ]
     },
     "execution_count": 74,
     "metadata": {},
     "output_type": "execute_result"
    }
   ],
   "source": [
    "names = np.array([\"Bob\", \"Joe\", \"Will\", \"Bob\", \"Will\", \"Joe\", \"Joe\"])\n",
    "data = np.array([[4, 7], [0, 2], [-5, 6], [0, 0], [1, 2], [-12, -4], [3, 4]])\n",
    "\n",
    "names"
   ]
  },
  {
   "cell_type": "code",
   "execution_count": 75,
   "id": "a07cdca3-5a43-4527-879c-a5b933dcba01",
   "metadata": {},
   "outputs": [
    {
     "data": {
      "text/plain": [
       "array([[  4,   7],\n",
       "       [  0,   2],\n",
       "       [ -5,   6],\n",
       "       [  0,   0],\n",
       "       [  1,   2],\n",
       "       [-12,  -4],\n",
       "       [  3,   4]])"
      ]
     },
     "execution_count": 75,
     "metadata": {},
     "output_type": "execute_result"
    }
   ],
   "source": [
    "data"
   ]
  },
  {
   "cell_type": "markdown",
   "id": "0e0a97d4-2463-4a3c-9367-39b76157524d",
   "metadata": {},
   "source": [
    "Suponhamos que cada nome correspondesse a uma linha do array data e\n",
    "quiséssemos selecionar todas as linhas cujo nome correspondente fosse \"Bob\".\n",
    "Como as operações aritméticas, as comparações (como com ==) com arrays\n",
    "também são vetorizadas. Logo, comparar names com a string \"Bob\" gera um\n",
    "aray booleano:"
   ]
  },
  {
   "cell_type": "code",
   "execution_count": 76,
   "id": "0223159a-dcbd-4da2-90de-0d57fc88f0dd",
   "metadata": {},
   "outputs": [
    {
     "data": {
      "text/plain": [
       "array([ True, False, False,  True, False, False, False])"
      ]
     },
     "execution_count": 76,
     "metadata": {},
     "output_type": "execute_result"
    }
   ],
   "source": [
    "names == \"Bob\""
   ]
  },
  {
   "cell_type": "markdown",
   "id": "c893cf7d-5fd2-449b-8226-b57abcc0077c",
   "metadata": {},
   "source": [
    "Esse array booleano pode ser passado quando o array for indexado:"
   ]
  },
  {
   "cell_type": "code",
   "execution_count": 78,
   "id": "5938f960-c6f1-4c67-b1a5-b05040964b61",
   "metadata": {},
   "outputs": [
    {
     "data": {
      "text/plain": [
       "array([[4, 7],\n",
       "       [0, 0]])"
      ]
     },
     "execution_count": 78,
     "metadata": {},
     "output_type": "execute_result"
    }
   ],
   "source": [
    "data[names == \"Bob\"]"
   ]
  },
  {
   "cell_type": "code",
   "execution_count": 79,
   "id": "83412970-b968-4f0b-b242-085b2e0d3033",
   "metadata": {},
   "outputs": [
    {
     "data": {
      "text/plain": [
       "array([[7],\n",
       "       [0]])"
      ]
     },
     "execution_count": 79,
     "metadata": {},
     "output_type": "execute_result"
    }
   ],
   "source": [
    "data[names == \"Bob\", 1:]"
   ]
  },
  {
   "cell_type": "code",
   "execution_count": 80,
   "id": "9a1e6e13-d4bd-4d0e-a5dd-0e858879b344",
   "metadata": {},
   "outputs": [
    {
     "data": {
      "text/plain": [
       "array([7, 0])"
      ]
     },
     "execution_count": 80,
     "metadata": {},
     "output_type": "execute_result"
    }
   ],
   "source": [
    "data[names == \"Bob\", 1]"
   ]
  },
  {
   "cell_type": "code",
   "execution_count": 82,
   "id": "e5aabc22-4bfa-42e3-8bef-988d3d41f43b",
   "metadata": {},
   "outputs": [
    {
     "data": {
      "text/plain": [
       "array([False,  True,  True, False,  True,  True,  True])"
      ]
     },
     "execution_count": 82,
     "metadata": {},
     "output_type": "execute_result"
    }
   ],
   "source": [
    "names != \"Bob\""
   ]
  },
  {
   "cell_type": "markdown",
   "id": "435aa59e-28ea-47de-96fe-67bb27e511d9",
   "metadata": {},
   "source": [
    "~(names == \"Bob\")"
   ]
  },
  {
   "cell_type": "code",
   "execution_count": 84,
   "id": "d63928c1-0ff6-4879-a2dc-1011fbae33c5",
   "metadata": {},
   "outputs": [
    {
     "data": {
      "text/plain": [
       "array([[  0,   2],\n",
       "       [ -5,   6],\n",
       "       [  1,   2],\n",
       "       [-12,  -4],\n",
       "       [  3,   4]])"
      ]
     },
     "execution_count": 84,
     "metadata": {},
     "output_type": "execute_result"
    }
   ],
   "source": [
    "data[~(names == \"Bob\")]"
   ]
  },
  {
   "cell_type": "markdown",
   "id": "062be249-514e-42f5-9ad3-6e907a833b47",
   "metadata": {},
   "source": [
    "O operador ~ pode ser útil quando você quiser inverter um array booleano\n",
    "referenciado por uma variável:"
   ]
  },
  {
   "cell_type": "code",
   "execution_count": 85,
   "id": "cc2dfdd8-ce86-4ebd-9809-c6e95999ac62",
   "metadata": {},
   "outputs": [
    {
     "data": {
      "text/plain": [
       "array([[  0,   2],\n",
       "       [ -5,   6],\n",
       "       [  1,   2],\n",
       "       [-12,  -4],\n",
       "       [  3,   4]])"
      ]
     },
     "execution_count": 85,
     "metadata": {},
     "output_type": "execute_result"
    }
   ],
   "source": [
    "cond = names == \"Bob\"\n",
    "data[~cond]"
   ]
  },
  {
   "cell_type": "markdown",
   "id": "fe766a86-277b-474b-801e-5b4299d7dcd2",
   "metadata": {},
   "source": [
    "Para selecionar dois dos três nomes e combinar várias condições booleanas,\n",
    "use operadores aritméticos booleanos como & (and) e | (or):"
   ]
  },
  {
   "cell_type": "code",
   "execution_count": 87,
   "id": "dc06829d-0a26-45ee-b6f3-159aa7e98b6e",
   "metadata": {},
   "outputs": [
    {
     "data": {
      "text/plain": [
       "array([ True, False,  True,  True,  True, False, False])"
      ]
     },
     "execution_count": 87,
     "metadata": {},
     "output_type": "execute_result"
    }
   ],
   "source": [
    "mask = (names == \"Bob\") | (names == \"Will\")\n",
    "mask"
   ]
  },
  {
   "cell_type": "code",
   "execution_count": 88,
   "id": "1434295b-0abd-41c9-81f5-8c8cb90d8bce",
   "metadata": {},
   "outputs": [
    {
     "data": {
      "text/plain": [
       "array([[ 4,  7],\n",
       "       [-5,  6],\n",
       "       [ 0,  0],\n",
       "       [ 1,  2]])"
      ]
     },
     "execution_count": 88,
     "metadata": {},
     "output_type": "execute_result"
    }
   ],
   "source": [
    "data[mask]"
   ]
  },
  {
   "cell_type": "markdown",
   "id": "3942ec01-c6af-4d78-a3c9-b57556a66ab2",
   "metadata": {},
   "source": [
    "A definição de valores com arrays booleanos funciona pela transferência do\n",
    "valor ou dos valores que estiverem no lado direito para os locais em que os\n",
    "valores do array booleano forem True. Para configurar todos os valoresnegativos de data com 0, só precisamos fazer o seguinte:"
   ]
  },
  {
   "cell_type": "code",
   "execution_count": 90,
   "id": "6839e244-58e9-41ea-8701-de2e4829c82a",
   "metadata": {},
   "outputs": [
    {
     "data": {
      "text/plain": [
       "array([[4, 7],\n",
       "       [0, 2],\n",
       "       [0, 6],\n",
       "       [0, 0],\n",
       "       [1, 2],\n",
       "       [0, 0],\n",
       "       [3, 4]])"
      ]
     },
     "execution_count": 90,
     "metadata": {},
     "output_type": "execute_result"
    }
   ],
   "source": [
    "data[data < 0] = 0\n",
    "data"
   ]
  },
  {
   "cell_type": "markdown",
   "id": "48950f61-8b34-4bc5-a679-b34fc2fb7b52",
   "metadata": {},
   "source": [
    "Você também pode definir linhas ou colunas inteiras usando um array\n",
    "booleano unidimensional:"
   ]
  },
  {
   "cell_type": "code",
   "execution_count": 93,
   "id": "c52a4564-1b7c-4d92-b588-65ebb0a49028",
   "metadata": {},
   "outputs": [
    {
     "data": {
      "text/plain": [
       "array([[7, 7],\n",
       "       [0, 2],\n",
       "       [7, 7],\n",
       "       [7, 7],\n",
       "       [7, 7],\n",
       "       [0, 0],\n",
       "       [3, 4]])"
      ]
     },
     "execution_count": 93,
     "metadata": {},
     "output_type": "execute_result"
    }
   ],
   "source": [
    "data[names != \"Joe\"] = 7\n",
    "data"
   ]
  },
  {
   "cell_type": "markdown",
   "id": "5af41efa-ba3b-4ebc-ad55-ff33f290e25b",
   "metadata": {
    "jp-MarkdownHeadingCollapsed": true
   },
   "source": [
    "#### <span style=\"color: red\"> Indexação Sofisticada </span>\n",
    "**Indexação sofisticada (fancy indexing) é um termo adotado pelo NumPy para\n",
    "descrever a indexação com o uso de arrays de inteiros.** Suponhamos que\n",
    "tivéssemos um array 8 × 4:"
   ]
  },
  {
   "cell_type": "code",
   "execution_count": 2,
   "id": "2cc194c4-7650-4607-8a5f-2af1e92d74b5",
   "metadata": {},
   "outputs": [
    {
     "data": {
      "text/plain": [
       "array([[0., 0., 0., 0.],\n",
       "       [0., 0., 0., 0.],\n",
       "       [0., 0., 0., 0.],\n",
       "       [0., 0., 0., 0.],\n",
       "       [0., 0., 0., 0.],\n",
       "       [0., 0., 0., 0.],\n",
       "       [0., 0., 0., 0.],\n",
       "       [0., 0., 0., 0.]])"
      ]
     },
     "execution_count": 2,
     "metadata": {},
     "output_type": "execute_result"
    }
   ],
   "source": [
    "import numpy as np\n",
    "\n",
    "arr = np.zeros((8, 4))\n",
    "arr"
   ]
  },
  {
   "cell_type": "code",
   "execution_count": 3,
   "id": "67003115-d4da-4999-bb03-3c6be3b469ce",
   "metadata": {},
   "outputs": [
    {
     "data": {
      "text/plain": [
       "array([[0., 0., 0., 0.],\n",
       "       [1., 1., 1., 1.],\n",
       "       [2., 2., 2., 2.],\n",
       "       [3., 3., 3., 3.],\n",
       "       [4., 4., 4., 4.],\n",
       "       [5., 5., 5., 5.],\n",
       "       [6., 6., 6., 6.],\n",
       "       [7., 7., 7., 7.]])"
      ]
     },
     "execution_count": 3,
     "metadata": {},
     "output_type": "execute_result"
    }
   ],
   "source": [
    "for i in range(8):\n",
    "    arr[i] = i\n",
    "\n",
    "arr"
   ]
  },
  {
   "cell_type": "markdown",
   "id": "48902fc4-0f8b-4490-ab6a-934bc4a6f380",
   "metadata": {},
   "source": [
    "Para selecionar um subconjunto das linhas em uma ordem específica, basta\n",
    "passar uma lista ou um ndarray de inteiros especificando a ordem desejada:"
   ]
  },
  {
   "cell_type": "code",
   "execution_count": 4,
   "id": "8ccaa8f7-698b-4e12-b290-99c3a6c9576f",
   "metadata": {},
   "outputs": [
    {
     "data": {
      "text/plain": [
       "array([[4., 4., 4., 4.],\n",
       "       [3., 3., 3., 3.],\n",
       "       [0., 0., 0., 0.],\n",
       "       [6., 6., 6., 6.]])"
      ]
     },
     "execution_count": 4,
     "metadata": {},
     "output_type": "execute_result"
    }
   ],
   "source": [
    "arr[[4, 3, 0, 6]]"
   ]
  },
  {
   "cell_type": "markdown",
   "id": "d7e839b9-5f53-4f4c-9a14-3a880034c064",
   "metadata": {},
   "source": [
    "Usar índices negativos seleciona as linhas a partir do final:"
   ]
  },
  {
   "cell_type": "code",
   "execution_count": 5,
   "id": "22de7783-8504-4176-83ad-a9b44cf485f9",
   "metadata": {},
   "outputs": [
    {
     "data": {
      "text/plain": [
       "array([[5., 5., 5., 5.],\n",
       "       [3., 3., 3., 3.],\n",
       "       [1., 1., 1., 1.],\n",
       "       [0., 0., 0., 0.]])"
      ]
     },
     "execution_count": 5,
     "metadata": {},
     "output_type": "execute_result"
    }
   ],
   "source": [
    "arr[[-3, -5, -7, -8]]"
   ]
  },
  {
   "cell_type": "code",
   "execution_count": 6,
   "id": "5e11358d-e628-4f18-b7a2-3dd6147a3a16",
   "metadata": {},
   "outputs": [
    {
     "data": {
      "text/plain": [
       "array([[ 0,  1,  2,  3],\n",
       "       [ 4,  5,  6,  7],\n",
       "       [ 8,  9, 10, 11],\n",
       "       [12, 13, 14, 15],\n",
       "       [16, 17, 18, 19],\n",
       "       [20, 21, 22, 23],\n",
       "       [24, 25, 26, 27],\n",
       "       [28, 29, 30, 31]])"
      ]
     },
     "execution_count": 6,
     "metadata": {},
     "output_type": "execute_result"
    }
   ],
   "source": [
    "# Agora\n",
    "arr2 = np.arange(32).reshape((8, 4))\n",
    "arr2"
   ]
  },
  {
   "cell_type": "code",
   "execution_count": 9,
   "id": "81dd47c3-4faf-46f4-b377-8b607cd8ab9a",
   "metadata": {},
   "outputs": [
    {
     "data": {
      "text/plain": [
       "array([ 4, 23, 29, 10])"
      ]
     },
     "execution_count": 9,
     "metadata": {},
     "output_type": "execute_result"
    }
   ],
   "source": [
    "# Anteriormente você passarsa só a ordem da linha, mas\n",
    "arr2[[1, 5, 7, 2],[0, 3, 1, 2]] # [linha] e [coluna]"
   ]
  },
  {
   "cell_type": "code",
   "execution_count": 15,
   "id": "fb809cfa-26ec-4af1-8a1d-72d305d6d9a0",
   "metadata": {},
   "outputs": [
    {
     "data": {
      "text/plain": [
       "array([[ 4,  5,  6,  7],\n",
       "       [20, 21, 22, 23],\n",
       "       [28, 29, 30, 31],\n",
       "       [ 8,  9, 10, 11]])"
      ]
     },
     "execution_count": 15,
     "metadata": {},
     "output_type": "execute_result"
    }
   ],
   "source": [
    "# Subconjunto\n",
    "arr2[[1, 5, 7, 2]][:] # ORDENADO"
   ]
  },
  {
   "cell_type": "code",
   "execution_count": 16,
   "id": "9ba18560-90cf-4ec2-a5ba-fc1ee70761d0",
   "metadata": {},
   "outputs": [
    {
     "data": {
      "text/plain": [
       "array([[ 4,  7,  5,  6],\n",
       "       [20, 23, 21, 22],\n",
       "       [28, 31, 29, 30],\n",
       "       [ 8, 11,  9, 10]])"
      ]
     },
     "execution_count": 16,
     "metadata": {},
     "output_type": "execute_result"
    }
   ],
   "source": [
    "arr2[[1, 5, 7, 2]][:, [0, 3, 1, 2]] # ORDENADO EM 0, 3, 1, 2"
   ]
  },
  {
   "cell_type": "markdown",
   "id": "e56ee9b1-2480-4b15-a451-d709b88003ad",
   "metadata": {},
   "source": [
    "**Lembre-se de que a indexação sofisticada, ao contrário do fatiamento, sempre\n",
    "copia os dados em um novo array ao atribuir o resultado a uma nova variável.**\n",
    "Se você atribuir valores com a indexação sofisticada, os valores indexados\n",
    "serão modificados:"
   ]
  },
  {
   "cell_type": "code",
   "execution_count": 17,
   "id": "55ecbaed-b232-4776-8986-853b5745c9e3",
   "metadata": {},
   "outputs": [
    {
     "data": {
      "text/plain": [
       "array([ 4, 23, 29, 10])"
      ]
     },
     "execution_count": 17,
     "metadata": {},
     "output_type": "execute_result"
    }
   ],
   "source": [
    "arr2[[1, 5, 7, 2], [0, 3, 1, 2]]"
   ]
  },
  {
   "cell_type": "code",
   "execution_count": 21,
   "id": "210844a1-9cdc-4c75-9f1c-774c048ad1ed",
   "metadata": {},
   "outputs": [],
   "source": [
    "arr2[[1, 5, 7, 2], [0, 3, 1, 2]] = 0"
   ]
  },
  {
   "cell_type": "code",
   "execution_count": 22,
   "id": "89fbbc0c-6995-4db9-ae43-54f6399304df",
   "metadata": {},
   "outputs": [
    {
     "data": {
      "text/plain": [
       "array([[ 0,  1,  2,  3],\n",
       "       [ 0,  5,  6,  7],\n",
       "       [ 8,  9,  0, 11],\n",
       "       [12, 13, 14, 15],\n",
       "       [16, 17, 18, 19],\n",
       "       [20, 21, 22,  0],\n",
       "       [24, 25, 26, 27],\n",
       "       [28,  0, 30, 31]])"
      ]
     },
     "execution_count": 22,
     "metadata": {},
     "output_type": "execute_result"
    }
   ],
   "source": [
    "arr2"
   ]
  },
  {
   "cell_type": "markdown",
   "id": "378bfda6-b8ec-4594-b1c5-e15f0e9d1696",
   "metadata": {},
   "source": [
    "#### Transposição de arrays e troca de eixos\n",
    "A transposição é uma forma especial de reformatação que também retornauma visualização dos dados subjacentes, sem fazer nenhuma cópia. Os arrays têm o **método transpose e o atributo especial T:**"
   ]
  },
  {
   "cell_type": "code",
   "execution_count": 24,
   "id": "2c29a683-e27c-4895-8e74-7668cda6266c",
   "metadata": {},
   "outputs": [
    {
     "data": {
      "text/plain": [
       "array([[ 0,  1,  2,  3,  4],\n",
       "       [ 5,  6,  7,  8,  9],\n",
       "       [10, 11, 12, 13, 14]])"
      ]
     },
     "execution_count": 24,
     "metadata": {},
     "output_type": "execute_result"
    }
   ],
   "source": [
    "import numpy as np\n",
    "\n",
    "arr = np.arange(15).reshape((3, 5))\n",
    "arr"
   ]
  },
  {
   "cell_type": "markdown",
   "id": "d56fe551-6c19-4c2f-815d-235ecf9e0621",
   "metadata": {},
   "source": [
    "arr.T"
   ]
  },
  {
   "cell_type": "markdown",
   "id": "f505e4de-4926-4586-b909-c6fca448772e",
   "metadata": {},
   "source": [
    "Ao fazer cálculos com matrizes, talvez você use esse recurso com alguma\n",
    "frequência – por exemplo, ao calcular **o produto da matriz interna** usando\n",
    "numpy.dot:\n",
    "\n",
    "O produto interno de matrizes, ou produto escalar de matrizes, é um valor escalar (um número real) obtido a partir de duas matrizes de mesma dimensão. Ele é calculado multiplicando-se a transposta de uma matriz pela outra, e então extraindo o traço (a soma dos elementos da diagonal principal) da matriz resultante. "
   ]
  },
  {
   "cell_type": "code",
   "execution_count": 26,
   "id": "73155880-cca8-419c-b231-c4f541f9a511",
   "metadata": {},
   "outputs": [
    {
     "data": {
      "text/plain": [
       "array([[ 0,  1,  0],\n",
       "       [ 1,  2, -2],\n",
       "       [ 6,  3,  2],\n",
       "       [-1,  0, -1],\n",
       "       [ 1,  0,  1]])"
      ]
     },
     "execution_count": 26,
     "metadata": {},
     "output_type": "execute_result"
    }
   ],
   "source": [
    "arr2 = np.array([[0, 1, 0], [1, 2, -2], [6, 3, 2], [-1, 0, -1], [1, 0, 1]])\n",
    "\n",
    "arr2"
   ]
  },
  {
   "cell_type": "code",
   "execution_count": 28,
   "id": "43f14eff-a6b5-438f-a149-0ef4b63bfe8d",
   "metadata": {},
   "outputs": [
    {
     "data": {
      "text/plain": [
       "array([[39, 20, 12],\n",
       "       [20, 14,  2],\n",
       "       [12,  2, 10]])"
      ]
     },
     "execution_count": 28,
     "metadata": {},
     "output_type": "execute_result"
    }
   ],
   "source": [
    "np.dot(arr2.T, arr2)"
   ]
  },
  {
   "cell_type": "markdown",
   "id": "4c8fe7ad-6d5d-454d-bea2-659a9e83b058",
   "metadata": {},
   "source": [
    "O operador infixo @ é outra maneira para fazermos a multiplicação de\n",
    "matrizes:"
   ]
  },
  {
   "cell_type": "code",
   "execution_count": 31,
   "id": "d21f5245-1180-4e44-ac0b-bf2429c8ca5d",
   "metadata": {},
   "outputs": [
    {
     "data": {
      "text/plain": [
       "array([[39, 20, 12],\n",
       "       [20, 14,  2],\n",
       "       [12,  2, 10]])"
      ]
     },
     "execution_count": 31,
     "metadata": {},
     "output_type": "execute_result"
    }
   ],
   "source": [
    "arr2.T @ arr2"
   ]
  },
  {
   "cell_type": "markdown",
   "id": "d64a7de5-bb8d-45f4-8279-ef874b314cc7",
   "metadata": {},
   "source": [
    "A transposição simples com .T é um caso especial de troca de eixos. O\n",
    "ndarray tem o método swapaxes, que recebe um par de números de eixos e troca\n",
    "os eixos indicados para reorganizar os dados:"
   ]
  },
  {
   "cell_type": "code",
   "execution_count": 33,
   "id": "95f96e74-d335-49e1-9496-b7a0ffc1966b",
   "metadata": {},
   "outputs": [
    {
     "data": {
      "text/plain": [
       "array([[ 0,  1,  2,  3,  4],\n",
       "       [ 5,  6,  7,  8,  9],\n",
       "       [10, 11, 12, 13, 14]])"
      ]
     },
     "execution_count": 33,
     "metadata": {},
     "output_type": "execute_result"
    }
   ],
   "source": [
    "arr"
   ]
  },
  {
   "cell_type": "code",
   "execution_count": 34,
   "id": "33fdaecc-d08d-4c93-b581-d1c58393b90c",
   "metadata": {},
   "outputs": [
    {
     "data": {
      "text/plain": [
       "array([[ 0,  5, 10],\n",
       "       [ 1,  6, 11],\n",
       "       [ 2,  7, 12],\n",
       "       [ 3,  8, 13],\n",
       "       [ 4,  9, 14]])"
      ]
     },
     "execution_count": 34,
     "metadata": {},
     "output_type": "execute_result"
    }
   ],
   "source": [
    "arr.swapaxes(0, 1)"
   ]
  },
  {
   "cell_type": "markdown",
   "id": "e7cc09bc-1289-4c5f-bd0e-cdc4e1097130",
   "metadata": {},
   "source": [
    "swapaxes também retorna uma visualização dos dados sem fazer cópia."
   ]
  },
  {
   "cell_type": "code",
   "execution_count": null,
   "id": "0d987449-ce3e-47ed-9c6a-7efdff69dd96",
   "metadata": {},
   "outputs": [],
   "source": []
  }
 ],
 "metadata": {
  "kernelspec": {
   "display_name": "Python 3 (ipykernel)",
   "language": "python",
   "name": "python3"
  },
  "language_info": {
   "codemirror_mode": {
    "name": "ipython",
    "version": 3
   },
   "file_extension": ".py",
   "mimetype": "text/x-python",
   "name": "python",
   "nbconvert_exporter": "python",
   "pygments_lexer": "ipython3",
   "version": "3.10.18"
  }
 },
 "nbformat": 4,
 "nbformat_minor": 5
}
